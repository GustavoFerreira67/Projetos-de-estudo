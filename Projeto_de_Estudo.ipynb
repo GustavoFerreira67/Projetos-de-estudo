{
  "nbformat": 4,
  "nbformat_minor": 0,
  "metadata": {
    "colab": {
      "name": "Projeto de Estudo",
      "provenance": [],
      "authorship_tag": "ABX9TyPiGUcedYxe+kIKALuR6B4L",
      "include_colab_link": true
    },
    "kernelspec": {
      "name": "python3",
      "display_name": "Python 3"
    },
    "language_info": {
      "name": "python"
    }
  },
  "cells": [
    {
      "cell_type": "markdown",
      "metadata": {
        "id": "view-in-github",
        "colab_type": "text"
      },
      "source": [
        "<a href=\"https://colab.research.google.com/github/GustavoFerreira67/Projetos-de-estudo/blob/main/Projeto_de_Estudo.ipynb\" target=\"_parent\"><img src=\"https://colab.research.google.com/assets/colab-badge.svg\" alt=\"Open In Colab\"/></a>"
      ]
    },
    {
      "cell_type": "code",
      "metadata": {
        "id": "vykwFJID33qA"
      },
      "source": [
        "import pandas as pd \n",
        "import pandas_datareader as wb\n",
        "import missingno\n",
        "import matplotlib.pyplot as plt\n",
        "import seaborn as sns\n",
        "import time, datetime,random\n",
        "from sklearn.linear_model import LogisticRegression\n",
        "from sklearn import model_selection, metrics, linear_model\n"
      ],
      "execution_count": 185,
      "outputs": []
    },
    {
      "cell_type": "code",
      "metadata": {
        "id": "Hnk0joYW39n0"
      },
      "source": [
        "data = pd.read_csv('ABEV3.SA.csv')"
      ],
      "execution_count": 9,
      "outputs": []
    },
    {
      "cell_type": "code",
      "metadata": {
        "colab": {
          "base_uri": "https://localhost:8080/",
          "height": 204
        },
        "id": "PMqXh9_14MsU",
        "outputId": "273d8ef6-07e5-4125-c2ee-cb7b779e2a4a"
      },
      "source": [
        "data.head()"
      ],
      "execution_count": 10,
      "outputs": [
        {
          "output_type": "execute_result",
          "data": {
            "text/html": [
              "<div>\n",
              "<style scoped>\n",
              "    .dataframe tbody tr th:only-of-type {\n",
              "        vertical-align: middle;\n",
              "    }\n",
              "\n",
              "    .dataframe tbody tr th {\n",
              "        vertical-align: top;\n",
              "    }\n",
              "\n",
              "    .dataframe thead th {\n",
              "        text-align: right;\n",
              "    }\n",
              "</style>\n",
              "<table border=\"1\" class=\"dataframe\">\n",
              "  <thead>\n",
              "    <tr style=\"text-align: right;\">\n",
              "      <th></th>\n",
              "      <th>Date</th>\n",
              "      <th>Open</th>\n",
              "      <th>High</th>\n",
              "      <th>Low</th>\n",
              "      <th>Close</th>\n",
              "      <th>Adj Close</th>\n",
              "      <th>Volume</th>\n",
              "    </tr>\n",
              "  </thead>\n",
              "  <tbody>\n",
              "    <tr>\n",
              "      <th>0</th>\n",
              "      <td>2019-05-06</td>\n",
              "      <td>17.700001</td>\n",
              "      <td>18.190001</td>\n",
              "      <td>17.570000</td>\n",
              "      <td>18.059999</td>\n",
              "      <td>17.063171</td>\n",
              "      <td>16137000.0</td>\n",
              "    </tr>\n",
              "    <tr>\n",
              "      <th>1</th>\n",
              "      <td>2019-05-07</td>\n",
              "      <td>18.200001</td>\n",
              "      <td>18.230000</td>\n",
              "      <td>17.240000</td>\n",
              "      <td>17.650000</td>\n",
              "      <td>16.675802</td>\n",
              "      <td>43377300.0</td>\n",
              "    </tr>\n",
              "    <tr>\n",
              "      <th>2</th>\n",
              "      <td>2019-05-08</td>\n",
              "      <td>17.799999</td>\n",
              "      <td>17.990000</td>\n",
              "      <td>17.639999</td>\n",
              "      <td>17.920000</td>\n",
              "      <td>16.930899</td>\n",
              "      <td>35491400.0</td>\n",
              "    </tr>\n",
              "    <tr>\n",
              "      <th>3</th>\n",
              "      <td>2019-05-09</td>\n",
              "      <td>17.750000</td>\n",
              "      <td>17.830000</td>\n",
              "      <td>17.430000</td>\n",
              "      <td>17.490000</td>\n",
              "      <td>16.524633</td>\n",
              "      <td>20651100.0</td>\n",
              "    </tr>\n",
              "    <tr>\n",
              "      <th>4</th>\n",
              "      <td>2019-05-10</td>\n",
              "      <td>17.500000</td>\n",
              "      <td>17.530001</td>\n",
              "      <td>17.170000</td>\n",
              "      <td>17.299999</td>\n",
              "      <td>16.345119</td>\n",
              "      <td>15438500.0</td>\n",
              "    </tr>\n",
              "  </tbody>\n",
              "</table>\n",
              "</div>"
            ],
            "text/plain": [
              "         Date       Open       High  ...      Close  Adj Close      Volume\n",
              "0  2019-05-06  17.700001  18.190001  ...  18.059999  17.063171  16137000.0\n",
              "1  2019-05-07  18.200001  18.230000  ...  17.650000  16.675802  43377300.0\n",
              "2  2019-05-08  17.799999  17.990000  ...  17.920000  16.930899  35491400.0\n",
              "3  2019-05-09  17.750000  17.830000  ...  17.490000  16.524633  20651100.0\n",
              "4  2019-05-10  17.500000  17.530001  ...  17.299999  16.345119  15438500.0\n",
              "\n",
              "[5 rows x 7 columns]"
            ]
          },
          "metadata": {
            "tags": []
          },
          "execution_count": 10
        }
      ]
    },
    {
      "cell_type": "code",
      "metadata": {
        "colab": {
          "base_uri": "https://localhost:8080/",
          "height": 204
        },
        "id": "uBjMA5Dg4UyC",
        "outputId": "5821f478-4cc1-4e9a-cb43-e29d760cdf7f"
      },
      "source": [
        "data.tail()"
      ],
      "execution_count": 11,
      "outputs": [
        {
          "output_type": "execute_result",
          "data": {
            "text/html": [
              "<div>\n",
              "<style scoped>\n",
              "    .dataframe tbody tr th:only-of-type {\n",
              "        vertical-align: middle;\n",
              "    }\n",
              "\n",
              "    .dataframe tbody tr th {\n",
              "        vertical-align: top;\n",
              "    }\n",
              "\n",
              "    .dataframe thead th {\n",
              "        text-align: right;\n",
              "    }\n",
              "</style>\n",
              "<table border=\"1\" class=\"dataframe\">\n",
              "  <thead>\n",
              "    <tr style=\"text-align: right;\">\n",
              "      <th></th>\n",
              "      <th>Date</th>\n",
              "      <th>Open</th>\n",
              "      <th>High</th>\n",
              "      <th>Low</th>\n",
              "      <th>Close</th>\n",
              "      <th>Adj Close</th>\n",
              "      <th>Volume</th>\n",
              "    </tr>\n",
              "  </thead>\n",
              "  <tbody>\n",
              "    <tr>\n",
              "      <th>244</th>\n",
              "      <td>2020-04-28</td>\n",
              "      <td>11.94</td>\n",
              "      <td>12.18</td>\n",
              "      <td>11.58</td>\n",
              "      <td>11.70</td>\n",
              "      <td>11.344544</td>\n",
              "      <td>27108700.0</td>\n",
              "    </tr>\n",
              "    <tr>\n",
              "      <th>245</th>\n",
              "      <td>2020-04-29</td>\n",
              "      <td>11.82</td>\n",
              "      <td>11.91</td>\n",
              "      <td>11.65</td>\n",
              "      <td>11.67</td>\n",
              "      <td>11.315456</td>\n",
              "      <td>27558700.0</td>\n",
              "    </tr>\n",
              "    <tr>\n",
              "      <th>246</th>\n",
              "      <td>2020-04-30</td>\n",
              "      <td>11.53</td>\n",
              "      <td>11.68</td>\n",
              "      <td>11.25</td>\n",
              "      <td>11.34</td>\n",
              "      <td>10.995482</td>\n",
              "      <td>35747500.0</td>\n",
              "    </tr>\n",
              "    <tr>\n",
              "      <th>247</th>\n",
              "      <td>2020-05-04</td>\n",
              "      <td>11.14</td>\n",
              "      <td>11.84</td>\n",
              "      <td>11.10</td>\n",
              "      <td>11.76</td>\n",
              "      <td>11.402722</td>\n",
              "      <td>30157800.0</td>\n",
              "    </tr>\n",
              "    <tr>\n",
              "      <th>248</th>\n",
              "      <td>2020-05-05</td>\n",
              "      <td>11.90</td>\n",
              "      <td>12.15</td>\n",
              "      <td>11.84</td>\n",
              "      <td>11.94</td>\n",
              "      <td>11.577252</td>\n",
              "      <td>25595500.0</td>\n",
              "    </tr>\n",
              "  </tbody>\n",
              "</table>\n",
              "</div>"
            ],
            "text/plain": [
              "           Date   Open   High    Low  Close  Adj Close      Volume\n",
              "244  2020-04-28  11.94  12.18  11.58  11.70  11.344544  27108700.0\n",
              "245  2020-04-29  11.82  11.91  11.65  11.67  11.315456  27558700.0\n",
              "246  2020-04-30  11.53  11.68  11.25  11.34  10.995482  35747500.0\n",
              "247  2020-05-04  11.14  11.84  11.10  11.76  11.402722  30157800.0\n",
              "248  2020-05-05  11.90  12.15  11.84  11.94  11.577252  25595500.0"
            ]
          },
          "metadata": {
            "tags": []
          },
          "execution_count": 11
        }
      ]
    },
    {
      "cell_type": "code",
      "metadata": {
        "colab": {
          "base_uri": "https://localhost:8080/",
          "height": 297
        },
        "id": "dlnGyGKG4cRf",
        "outputId": "c8f4eb54-4f24-4fd6-b6a0-664afe8ec7a3"
      },
      "source": [
        "  data.describe()"
      ],
      "execution_count": 12,
      "outputs": [
        {
          "output_type": "execute_result",
          "data": {
            "text/html": [
              "<div>\n",
              "<style scoped>\n",
              "    .dataframe tbody tr th:only-of-type {\n",
              "        vertical-align: middle;\n",
              "    }\n",
              "\n",
              "    .dataframe tbody tr th {\n",
              "        vertical-align: top;\n",
              "    }\n",
              "\n",
              "    .dataframe thead th {\n",
              "        text-align: right;\n",
              "    }\n",
              "</style>\n",
              "<table border=\"1\" class=\"dataframe\">\n",
              "  <thead>\n",
              "    <tr style=\"text-align: right;\">\n",
              "      <th></th>\n",
              "      <th>Open</th>\n",
              "      <th>High</th>\n",
              "      <th>Low</th>\n",
              "      <th>Close</th>\n",
              "      <th>Adj Close</th>\n",
              "      <th>Volume</th>\n",
              "    </tr>\n",
              "  </thead>\n",
              "  <tbody>\n",
              "    <tr>\n",
              "      <th>count</th>\n",
              "      <td>248.000000</td>\n",
              "      <td>248.000000</td>\n",
              "      <td>248.000000</td>\n",
              "      <td>248.000000</td>\n",
              "      <td>248.000000</td>\n",
              "      <td>2.480000e+02</td>\n",
              "    </tr>\n",
              "    <tr>\n",
              "      <th>mean</th>\n",
              "      <td>17.249194</td>\n",
              "      <td>17.480000</td>\n",
              "      <td>17.013427</td>\n",
              "      <td>17.233266</td>\n",
              "      <td>16.415246</td>\n",
              "      <td>2.366209e+07</td>\n",
              "    </tr>\n",
              "    <tr>\n",
              "      <th>std</th>\n",
              "      <td>2.485008</td>\n",
              "      <td>2.429512</td>\n",
              "      <td>2.552842</td>\n",
              "      <td>2.505045</td>\n",
              "      <td>2.293264</td>\n",
              "      <td>1.392466e+07</td>\n",
              "    </tr>\n",
              "    <tr>\n",
              "      <th>min</th>\n",
              "      <td>10.730000</td>\n",
              "      <td>11.210000</td>\n",
              "      <td>10.360000</td>\n",
              "      <td>11.030000</td>\n",
              "      <td>10.694901</td>\n",
              "      <td>5.109500e+06</td>\n",
              "    </tr>\n",
              "    <tr>\n",
              "      <th>25%</th>\n",
              "      <td>16.995000</td>\n",
              "      <td>17.185001</td>\n",
              "      <td>16.745000</td>\n",
              "      <td>16.935001</td>\n",
              "      <td>16.202974</td>\n",
              "      <td>1.543458e+07</td>\n",
              "    </tr>\n",
              "    <tr>\n",
              "      <th>50%</th>\n",
              "      <td>18.070000</td>\n",
              "      <td>18.245000</td>\n",
              "      <td>17.899999</td>\n",
              "      <td>18.064999</td>\n",
              "      <td>17.091515</td>\n",
              "      <td>1.931080e+07</td>\n",
              "    </tr>\n",
              "    <tr>\n",
              "      <th>75%</th>\n",
              "      <td>18.900000</td>\n",
              "      <td>19.054999</td>\n",
              "      <td>18.682500</td>\n",
              "      <td>18.870001</td>\n",
              "      <td>17.951286</td>\n",
              "      <td>2.760940e+07</td>\n",
              "    </tr>\n",
              "    <tr>\n",
              "      <th>max</th>\n",
              "      <td>20.410000</td>\n",
              "      <td>20.770000</td>\n",
              "      <td>20.330000</td>\n",
              "      <td>20.629999</td>\n",
              "      <td>19.491320</td>\n",
              "      <td>9.751180e+07</td>\n",
              "    </tr>\n",
              "  </tbody>\n",
              "</table>\n",
              "</div>"
            ],
            "text/plain": [
              "             Open        High         Low       Close   Adj Close        Volume\n",
              "count  248.000000  248.000000  248.000000  248.000000  248.000000  2.480000e+02\n",
              "mean    17.249194   17.480000   17.013427   17.233266   16.415246  2.366209e+07\n",
              "std      2.485008    2.429512    2.552842    2.505045    2.293264  1.392466e+07\n",
              "min     10.730000   11.210000   10.360000   11.030000   10.694901  5.109500e+06\n",
              "25%     16.995000   17.185001   16.745000   16.935001   16.202974  1.543458e+07\n",
              "50%     18.070000   18.245000   17.899999   18.064999   17.091515  1.931080e+07\n",
              "75%     18.900000   19.054999   18.682500   18.870001   17.951286  2.760940e+07\n",
              "max     20.410000   20.770000   20.330000   20.629999   19.491320  9.751180e+07"
            ]
          },
          "metadata": {
            "tags": []
          },
          "execution_count": 12
        }
      ]
    },
    {
      "cell_type": "code",
      "metadata": {
        "colab": {
          "base_uri": "https://localhost:8080/"
        },
        "id": "omk3UMXS4gA9",
        "outputId": "5fd30464-298f-41ef-e19f-88c20fc1ace3"
      },
      "source": [
        "type(data)"
      ],
      "execution_count": 14,
      "outputs": [
        {
          "output_type": "execute_result",
          "data": {
            "text/plain": [
              "pandas.core.frame.DataFrame"
            ]
          },
          "metadata": {
            "tags": []
          },
          "execution_count": 14
        }
      ]
    },
    {
      "cell_type": "code",
      "metadata": {
        "id": "XGuSbd426YDJ"
      },
      "source": [
        "ticker = 'ABEV3.SA'"
      ],
      "execution_count": 24,
      "outputs": []
    },
    {
      "cell_type": "code",
      "metadata": {
        "id": "AG9Pgmid7T1x"
      },
      "source": [
        "start = '2019-10-1'\n",
        "end = '2020-04-20'"
      ],
      "execution_count": 25,
      "outputs": []
    },
    {
      "cell_type": "code",
      "metadata": {
        "id": "G47ZMizP7ytn"
      },
      "source": [
        "df =wb.DataReader (name=ticker, data_source='yahoo', start = start, end = end)"
      ],
      "execution_count": 26,
      "outputs": []
    },
    {
      "cell_type": "code",
      "metadata": {
        "colab": {
          "base_uri": "https://localhost:8080/"
        },
        "id": "hWe2GS-Y8byr",
        "outputId": "45b35d79-328d-4720-cc34-27cf8c4e01d0"
      },
      "source": [
        "type(df)"
      ],
      "execution_count": 32,
      "outputs": [
        {
          "output_type": "execute_result",
          "data": {
            "text/plain": [
              "pandas.core.frame.DataFrame"
            ]
          },
          "metadata": {
            "tags": []
          },
          "execution_count": 32
        }
      ]
    },
    {
      "cell_type": "code",
      "metadata": {
        "colab": {
          "base_uri": "https://localhost:8080/",
          "height": 235
        },
        "id": "xWQZP0OU8vuz",
        "outputId": "a8a189a9-d3ce-4e0a-89a9-ca989b34c558"
      },
      "source": [
        "df.head()"
      ],
      "execution_count": 33,
      "outputs": [
        {
          "output_type": "execute_result",
          "data": {
            "text/html": [
              "<div>\n",
              "<style scoped>\n",
              "    .dataframe tbody tr th:only-of-type {\n",
              "        vertical-align: middle;\n",
              "    }\n",
              "\n",
              "    .dataframe tbody tr th {\n",
              "        vertical-align: top;\n",
              "    }\n",
              "\n",
              "    .dataframe thead th {\n",
              "        text-align: right;\n",
              "    }\n",
              "</style>\n",
              "<table border=\"1\" class=\"dataframe\">\n",
              "  <thead>\n",
              "    <tr style=\"text-align: right;\">\n",
              "      <th></th>\n",
              "      <th>High</th>\n",
              "      <th>Low</th>\n",
              "      <th>Open</th>\n",
              "      <th>Close</th>\n",
              "      <th>Volume</th>\n",
              "      <th>Adj Close</th>\n",
              "    </tr>\n",
              "    <tr>\n",
              "      <th>Date</th>\n",
              "      <th></th>\n",
              "      <th></th>\n",
              "      <th></th>\n",
              "      <th></th>\n",
              "      <th></th>\n",
              "      <th></th>\n",
              "    </tr>\n",
              "  </thead>\n",
              "  <tbody>\n",
              "    <tr>\n",
              "      <th>2019-10-01</th>\n",
              "      <td>19.459999</td>\n",
              "      <td>19.110001</td>\n",
              "      <td>19.299999</td>\n",
              "      <td>19.309999</td>\n",
              "      <td>24459600.0</td>\n",
              "      <td>18.244175</td>\n",
              "    </tr>\n",
              "    <tr>\n",
              "      <th>2019-10-02</th>\n",
              "      <td>19.290001</td>\n",
              "      <td>18.750000</td>\n",
              "      <td>19.209999</td>\n",
              "      <td>18.860001</td>\n",
              "      <td>17900100.0</td>\n",
              "      <td>17.819017</td>\n",
              "    </tr>\n",
              "    <tr>\n",
              "      <th>2019-10-03</th>\n",
              "      <td>18.850000</td>\n",
              "      <td>18.469999</td>\n",
              "      <td>18.799999</td>\n",
              "      <td>18.580000</td>\n",
              "      <td>19307100.0</td>\n",
              "      <td>17.554470</td>\n",
              "    </tr>\n",
              "    <tr>\n",
              "      <th>2019-10-04</th>\n",
              "      <td>19.370001</td>\n",
              "      <td>18.500000</td>\n",
              "      <td>18.590000</td>\n",
              "      <td>19.209999</td>\n",
              "      <td>35765000.0</td>\n",
              "      <td>18.149696</td>\n",
              "    </tr>\n",
              "    <tr>\n",
              "      <th>2019-10-07</th>\n",
              "      <td>19.280001</td>\n",
              "      <td>18.780001</td>\n",
              "      <td>19.209999</td>\n",
              "      <td>18.870001</td>\n",
              "      <td>17635100.0</td>\n",
              "      <td>17.828466</td>\n",
              "    </tr>\n",
              "  </tbody>\n",
              "</table>\n",
              "</div>"
            ],
            "text/plain": [
              "                 High        Low       Open      Close      Volume  Adj Close\n",
              "Date                                                                         \n",
              "2019-10-01  19.459999  19.110001  19.299999  19.309999  24459600.0  18.244175\n",
              "2019-10-02  19.290001  18.750000  19.209999  18.860001  17900100.0  17.819017\n",
              "2019-10-03  18.850000  18.469999  18.799999  18.580000  19307100.0  17.554470\n",
              "2019-10-04  19.370001  18.500000  18.590000  19.209999  35765000.0  18.149696\n",
              "2019-10-07  19.280001  18.780001  19.209999  18.870001  17635100.0  17.828466"
            ]
          },
          "metadata": {
            "tags": []
          },
          "execution_count": 33
        }
      ]
    },
    {
      "cell_type": "code",
      "metadata": {
        "colab": {
          "base_uri": "https://localhost:8080/",
          "height": 235
        },
        "id": "ckIdVN1S8mll",
        "outputId": "f6cf4568-e55d-4038-8ffb-96921450905f"
      },
      "source": [
        "df.tail()"
      ],
      "execution_count": 34,
      "outputs": [
        {
          "output_type": "execute_result",
          "data": {
            "text/html": [
              "<div>\n",
              "<style scoped>\n",
              "    .dataframe tbody tr th:only-of-type {\n",
              "        vertical-align: middle;\n",
              "    }\n",
              "\n",
              "    .dataframe tbody tr th {\n",
              "        vertical-align: top;\n",
              "    }\n",
              "\n",
              "    .dataframe thead th {\n",
              "        text-align: right;\n",
              "    }\n",
              "</style>\n",
              "<table border=\"1\" class=\"dataframe\">\n",
              "  <thead>\n",
              "    <tr style=\"text-align: right;\">\n",
              "      <th></th>\n",
              "      <th>High</th>\n",
              "      <th>Low</th>\n",
              "      <th>Open</th>\n",
              "      <th>Close</th>\n",
              "      <th>Volume</th>\n",
              "      <th>Adj Close</th>\n",
              "    </tr>\n",
              "    <tr>\n",
              "      <th>Date</th>\n",
              "      <th></th>\n",
              "      <th></th>\n",
              "      <th></th>\n",
              "      <th></th>\n",
              "      <th></th>\n",
              "      <th></th>\n",
              "    </tr>\n",
              "  </thead>\n",
              "  <tbody>\n",
              "    <tr>\n",
              "      <th>2020-04-14</th>\n",
              "      <td>12.59</td>\n",
              "      <td>12.09</td>\n",
              "      <td>12.29</td>\n",
              "      <td>12.09</td>\n",
              "      <td>21281900.0</td>\n",
              "      <td>11.722696</td>\n",
              "    </tr>\n",
              "    <tr>\n",
              "      <th>2020-04-15</th>\n",
              "      <td>12.06</td>\n",
              "      <td>11.72</td>\n",
              "      <td>11.92</td>\n",
              "      <td>11.91</td>\n",
              "      <td>35812700.0</td>\n",
              "      <td>11.548165</td>\n",
              "    </tr>\n",
              "    <tr>\n",
              "      <th>2020-04-16</th>\n",
              "      <td>12.02</td>\n",
              "      <td>11.40</td>\n",
              "      <td>11.96</td>\n",
              "      <td>11.45</td>\n",
              "      <td>26018500.0</td>\n",
              "      <td>11.102140</td>\n",
              "    </tr>\n",
              "    <tr>\n",
              "      <th>2020-04-17</th>\n",
              "      <td>11.80</td>\n",
              "      <td>11.49</td>\n",
              "      <td>11.70</td>\n",
              "      <td>11.60</td>\n",
              "      <td>16763000.0</td>\n",
              "      <td>11.247582</td>\n",
              "    </tr>\n",
              "    <tr>\n",
              "      <th>2020-04-20</th>\n",
              "      <td>11.85</td>\n",
              "      <td>11.29</td>\n",
              "      <td>11.40</td>\n",
              "      <td>11.61</td>\n",
              "      <td>22065800.0</td>\n",
              "      <td>11.257279</td>\n",
              "    </tr>\n",
              "  </tbody>\n",
              "</table>\n",
              "</div>"
            ],
            "text/plain": [
              "             High    Low   Open  Close      Volume  Adj Close\n",
              "Date                                                         \n",
              "2020-04-14  12.59  12.09  12.29  12.09  21281900.0  11.722696\n",
              "2020-04-15  12.06  11.72  11.92  11.91  35812700.0  11.548165\n",
              "2020-04-16  12.02  11.40  11.96  11.45  26018500.0  11.102140\n",
              "2020-04-17  11.80  11.49  11.70  11.60  16763000.0  11.247582\n",
              "2020-04-20  11.85  11.29  11.40  11.61  22065800.0  11.257279"
            ]
          },
          "metadata": {
            "tags": []
          },
          "execution_count": 34
        }
      ]
    },
    {
      "cell_type": "code",
      "metadata": {
        "colab": {
          "base_uri": "https://localhost:8080/",
          "height": 297
        },
        "id": "StYoibRP9KGK",
        "outputId": "2e7c6aac-1a7d-4ccc-bebd-efc07997b701"
      },
      "source": [
        "df.describe()"
      ],
      "execution_count": 36,
      "outputs": [
        {
          "output_type": "execute_result",
          "data": {
            "text/html": [
              "<div>\n",
              "<style scoped>\n",
              "    .dataframe tbody tr th:only-of-type {\n",
              "        vertical-align: middle;\n",
              "    }\n",
              "\n",
              "    .dataframe tbody tr th {\n",
              "        vertical-align: top;\n",
              "    }\n",
              "\n",
              "    .dataframe thead th {\n",
              "        text-align: right;\n",
              "    }\n",
              "</style>\n",
              "<table border=\"1\" class=\"dataframe\">\n",
              "  <thead>\n",
              "    <tr style=\"text-align: right;\">\n",
              "      <th></th>\n",
              "      <th>High</th>\n",
              "      <th>Low</th>\n",
              "      <th>Open</th>\n",
              "      <th>Close</th>\n",
              "      <th>Volume</th>\n",
              "      <th>Adj Close</th>\n",
              "    </tr>\n",
              "  </thead>\n",
              "  <tbody>\n",
              "    <tr>\n",
              "      <th>count</th>\n",
              "      <td>135.000000</td>\n",
              "      <td>135.000000</td>\n",
              "      <td>135.000000</td>\n",
              "      <td>135.000000</td>\n",
              "      <td>1.350000e+02</td>\n",
              "      <td>135.000000</td>\n",
              "    </tr>\n",
              "    <tr>\n",
              "      <th>mean</th>\n",
              "      <td>16.932963</td>\n",
              "      <td>16.427259</td>\n",
              "      <td>16.691259</td>\n",
              "      <td>16.662444</td>\n",
              "      <td>2.512478e+07</td>\n",
              "      <td>15.968233</td>\n",
              "    </tr>\n",
              "    <tr>\n",
              "      <th>std</th>\n",
              "      <td>2.567283</td>\n",
              "      <td>2.757599</td>\n",
              "      <td>2.660501</td>\n",
              "      <td>2.677049</td>\n",
              "      <td>1.639104e+07</td>\n",
              "      <td>2.488520</td>\n",
              "    </tr>\n",
              "    <tr>\n",
              "      <th>min</th>\n",
              "      <td>11.210000</td>\n",
              "      <td>10.360000</td>\n",
              "      <td>10.730000</td>\n",
              "      <td>11.030000</td>\n",
              "      <td>5.109500e+06</td>\n",
              "      <td>10.694901</td>\n",
              "    </tr>\n",
              "    <tr>\n",
              "      <th>25%</th>\n",
              "      <td>15.310000</td>\n",
              "      <td>14.680000</td>\n",
              "      <td>14.880000</td>\n",
              "      <td>14.985000</td>\n",
              "      <td>1.498395e+07</td>\n",
              "      <td>14.529744</td>\n",
              "    </tr>\n",
              "    <tr>\n",
              "      <th>50%</th>\n",
              "      <td>18.070000</td>\n",
              "      <td>17.580000</td>\n",
              "      <td>17.900000</td>\n",
              "      <td>17.670000</td>\n",
              "      <td>1.960910e+07</td>\n",
              "      <td>16.883661</td>\n",
              "    </tr>\n",
              "    <tr>\n",
              "      <th>75%</th>\n",
              "      <td>18.940001</td>\n",
              "      <td>18.575000</td>\n",
              "      <td>18.755000</td>\n",
              "      <td>18.730000</td>\n",
              "      <td>2.973715e+07</td>\n",
              "      <td>17.847359</td>\n",
              "    </tr>\n",
              "    <tr>\n",
              "      <th>max</th>\n",
              "      <td>19.580000</td>\n",
              "      <td>19.110001</td>\n",
              "      <td>19.299999</td>\n",
              "      <td>19.309999</td>\n",
              "      <td>9.751180e+07</td>\n",
              "      <td>18.636080</td>\n",
              "    </tr>\n",
              "  </tbody>\n",
              "</table>\n",
              "</div>"
            ],
            "text/plain": [
              "             High         Low        Open       Close        Volume   Adj Close\n",
              "count  135.000000  135.000000  135.000000  135.000000  1.350000e+02  135.000000\n",
              "mean    16.932963   16.427259   16.691259   16.662444  2.512478e+07   15.968233\n",
              "std      2.567283    2.757599    2.660501    2.677049  1.639104e+07    2.488520\n",
              "min     11.210000   10.360000   10.730000   11.030000  5.109500e+06   10.694901\n",
              "25%     15.310000   14.680000   14.880000   14.985000  1.498395e+07   14.529744\n",
              "50%     18.070000   17.580000   17.900000   17.670000  1.960910e+07   16.883661\n",
              "75%     18.940001   18.575000   18.755000   18.730000  2.973715e+07   17.847359\n",
              "max     19.580000   19.110001   19.299999   19.309999  9.751180e+07   18.636080"
            ]
          },
          "metadata": {
            "tags": []
          },
          "execution_count": 36
        }
      ]
    },
    {
      "cell_type": "code",
      "metadata": {
        "colab": {
          "base_uri": "https://localhost:8080/",
          "height": 282
        },
        "id": "Eg7pZgtc9P8K",
        "outputId": "69fef266-e223-4df9-edd0-621acf385e8f"
      },
      "source": [
        "df['Adj Close'].plot.hist()"
      ],
      "execution_count": 40,
      "outputs": [
        {
          "output_type": "execute_result",
          "data": {
            "text/plain": [
              "<matplotlib.axes._subplots.AxesSubplot at 0x7f85663eecd0>"
            ]
          },
          "metadata": {
            "tags": []
          },
          "execution_count": 40
        },
        {
          "output_type": "display_data",
          "data": {
            "image/png": "[encoded data removed]",
            "text/plain": [
              "<Figure size 432x288 with 1 Axes>"
            ]
          },
          "metadata": {
            "tags": [],
            "needs_background": "light"
          }
        }
      ]
    },
    {
      "cell_type": "code",
      "metadata": {
        "id": "hVDoLegn9816"
      },
      "source": [
        "df.rename(columns={'Adj Close':'Adj_Close'}, inplace=True)"
      ],
      "execution_count": 44,
      "outputs": []
    },
    {
      "cell_type": "code",
      "metadata": {
        "colab": {
          "base_uri": "https://localhost:8080/",
          "height": 235
        },
        "id": "ahVMQcLv-sUc",
        "outputId": "405bd35a-7b89-4660-930f-77954d6649e1"
      },
      "source": [
        "df.head()"
      ],
      "execution_count": 45,
      "outputs": [
        {
          "output_type": "execute_result",
          "data": {
            "text/html": [
              "<div>\n",
              "<style scoped>\n",
              "    .dataframe tbody tr th:only-of-type {\n",
              "        vertical-align: middle;\n",
              "    }\n",
              "\n",
              "    .dataframe tbody tr th {\n",
              "        vertical-align: top;\n",
              "    }\n",
              "\n",
              "    .dataframe thead th {\n",
              "        text-align: right;\n",
              "    }\n",
              "</style>\n",
              "<table border=\"1\" class=\"dataframe\">\n",
              "  <thead>\n",
              "    <tr style=\"text-align: right;\">\n",
              "      <th></th>\n",
              "      <th>High</th>\n",
              "      <th>Low</th>\n",
              "      <th>Open</th>\n",
              "      <th>Close</th>\n",
              "      <th>Volume</th>\n",
              "      <th>Adj_Close</th>\n",
              "    </tr>\n",
              "    <tr>\n",
              "      <th>Date</th>\n",
              "      <th></th>\n",
              "      <th></th>\n",
              "      <th></th>\n",
              "      <th></th>\n",
              "      <th></th>\n",
              "      <th></th>\n",
              "    </tr>\n",
              "  </thead>\n",
              "  <tbody>\n",
              "    <tr>\n",
              "      <th>2019-10-01</th>\n",
              "      <td>19.459999</td>\n",
              "      <td>19.110001</td>\n",
              "      <td>19.299999</td>\n",
              "      <td>19.309999</td>\n",
              "      <td>24459600.0</td>\n",
              "      <td>18.244175</td>\n",
              "    </tr>\n",
              "    <tr>\n",
              "      <th>2019-10-02</th>\n",
              "      <td>19.290001</td>\n",
              "      <td>18.750000</td>\n",
              "      <td>19.209999</td>\n",
              "      <td>18.860001</td>\n",
              "      <td>17900100.0</td>\n",
              "      <td>17.819017</td>\n",
              "    </tr>\n",
              "    <tr>\n",
              "      <th>2019-10-03</th>\n",
              "      <td>18.850000</td>\n",
              "      <td>18.469999</td>\n",
              "      <td>18.799999</td>\n",
              "      <td>18.580000</td>\n",
              "      <td>19307100.0</td>\n",
              "      <td>17.554470</td>\n",
              "    </tr>\n",
              "    <tr>\n",
              "      <th>2019-10-04</th>\n",
              "      <td>19.370001</td>\n",
              "      <td>18.500000</td>\n",
              "      <td>18.590000</td>\n",
              "      <td>19.209999</td>\n",
              "      <td>35765000.0</td>\n",
              "      <td>18.149696</td>\n",
              "    </tr>\n",
              "    <tr>\n",
              "      <th>2019-10-07</th>\n",
              "      <td>19.280001</td>\n",
              "      <td>18.780001</td>\n",
              "      <td>19.209999</td>\n",
              "      <td>18.870001</td>\n",
              "      <td>17635100.0</td>\n",
              "      <td>17.828466</td>\n",
              "    </tr>\n",
              "  </tbody>\n",
              "</table>\n",
              "</div>"
            ],
            "text/plain": [
              "                 High        Low       Open      Close      Volume  Adj_Close\n",
              "Date                                                                         \n",
              "2019-10-01  19.459999  19.110001  19.299999  19.309999  24459600.0  18.244175\n",
              "2019-10-02  19.290001  18.750000  19.209999  18.860001  17900100.0  17.819017\n",
              "2019-10-03  18.850000  18.469999  18.799999  18.580000  19307100.0  17.554470\n",
              "2019-10-04  19.370001  18.500000  18.590000  19.209999  35765000.0  18.149696\n",
              "2019-10-07  19.280001  18.780001  19.209999  18.870001  17635100.0  17.828466"
            ]
          },
          "metadata": {
            "tags": []
          },
          "execution_count": 45
        }
      ]
    },
    {
      "cell_type": "code",
      "metadata": {
        "colab": {
          "base_uri": "https://localhost:8080/",
          "height": 282
        },
        "id": "oPlP_9d79wig",
        "outputId": "845c7fac-aaa2-4a9d-dbd5-7da9d059d451"
      },
      "source": [
        "df.Adj_Close.plot.hist()"
      ],
      "execution_count": 46,
      "outputs": [
        {
          "output_type": "execute_result",
          "data": {
            "text/plain": [
              "<matplotlib.axes._subplots.AxesSubplot at 0x7f8566357790>"
            ]
          },
          "metadata": {
            "tags": []
          },
          "execution_count": 46
        },
        {
          "output_type": "display_data",
          "data": {
            "image/png": "[encoded data removed]",
            "text/plain": [
              "<Figure size 432x288 with 1 Axes>"
            ]
          },
          "metadata": {
            "tags": [],
            "needs_background": "light"
          }
        }
      ]
    },
    {
      "cell_type": "code",
      "metadata": {
        "colab": {
          "base_uri": "https://localhost:8080/"
        },
        "id": "fVeeDl68-_uE",
        "outputId": "4c7581e7-3ee3-4d31-ae0a-e7f646ca3fc6"
      },
      "source": [
        "df.columns"
      ],
      "execution_count": 48,
      "outputs": [
        {
          "output_type": "execute_result",
          "data": {
            "text/plain": [
              "Index(['High', 'Low', 'Open', 'Close', 'Volume', 'Adj_Close'], dtype='object')"
            ]
          },
          "metadata": {
            "tags": []
          },
          "execution_count": 48
        }
      ]
    },
    {
      "cell_type": "code",
      "metadata": {
        "colab": {
          "base_uri": "https://localhost:8080/"
        },
        "id": "tD8ZzGxD_Eh9",
        "outputId": "bc74d099-a28d-4826-fa7a-d1b3d47471da"
      },
      "source": [
        "df.index"
      ],
      "execution_count": 49,
      "outputs": [
        {
          "output_type": "execute_result",
          "data": {
            "text/plain": [
              "DatetimeIndex(['2019-10-01', '2019-10-02', '2019-10-03', '2019-10-04',\n",
              "               '2019-10-07', '2019-10-08', '2019-10-09', '2019-10-10',\n",
              "               '2019-10-11', '2019-10-14',\n",
              "               ...\n",
              "               '2020-04-06', '2020-04-07', '2020-04-08', '2020-04-09',\n",
              "               '2020-04-13', '2020-04-14', '2020-04-15', '2020-04-16',\n",
              "               '2020-04-17', '2020-04-20'],\n",
              "              dtype='datetime64[ns]', name='Date', length=135, freq=None)"
            ]
          },
          "metadata": {
            "tags": []
          },
          "execution_count": 49
        }
      ]
    },
    {
      "cell_type": "code",
      "metadata": {
        "colab": {
          "base_uri": "https://localhost:8080/",
          "height": 491
        },
        "id": "2RestuKJ_YsI",
        "outputId": "f93a60ba-3774-4de5-d9a4-3f9053bd6c19"
      },
      "source": [
        "missingno.matrix(df,figsize=(30,10))"
      ],
      "execution_count": 53,
      "outputs": [
        {
          "output_type": "execute_result",
          "data": {
            "text/plain": [
              "<matplotlib.axes._subplots.AxesSubplot at 0x7f85578dbe50>"
            ]
          },
          "metadata": {
            "tags": []
          },
          "execution_count": 53
        },
        {
          "output_type": "display_data",
          "data": {
            "image/png": "[encoded data removed]",
            "text/plain": [
              "<Figure size 2160x720 with 2 Axes>"
            ]
          },
          "metadata": {
            "tags": [],
            "needs_background": "light"
          }
        }
      ]
    },
    {
      "cell_type": "code",
      "metadata": {
        "colab": {
          "base_uri": "https://localhost:8080/"
        },
        "id": "x4jx5nDC_vuO",
        "outputId": "fc5a695b-25d2-497a-9b55-8862ef660dce"
      },
      "source": [
        "df.isnull().sum()"
      ],
      "execution_count": 54,
      "outputs": [
        {
          "output_type": "execute_result",
          "data": {
            "text/plain": [
              "High         0\n",
              "Low          0\n",
              "Open         0\n",
              "Close        0\n",
              "Volume       0\n",
              "Adj_Close    0\n",
              "dtype: int64"
            ]
          },
          "metadata": {
            "tags": []
          },
          "execution_count": 54
        }
      ]
    },
    {
      "cell_type": "code",
      "metadata": {
        "colab": {
          "base_uri": "https://localhost:8080/"
        },
        "id": "7mrqaalV_5X-",
        "outputId": "e3b33f75-c1eb-47c1-8c1f-742621a07a32"
      },
      "source": [
        "df.info()"
      ],
      "execution_count": 56,
      "outputs": [
        {
          "output_type": "stream",
          "text": [
            "<class 'pandas.core.frame.DataFrame'>\n",
            "DatetimeIndex: 135 entries, 2019-10-01 to 2020-04-20\n",
            "Data columns (total 6 columns):\n",
            " #   Column     Non-Null Count  Dtype  \n",
            "---  ------     --------------  -----  \n",
            " 0   High       135 non-null    float64\n",
            " 1   Low        135 non-null    float64\n",
            " 2   Open       135 non-null    float64\n",
            " 3   Close      135 non-null    float64\n",
            " 4   Volume     135 non-null    float64\n",
            " 5   Adj_Close  135 non-null    float64\n",
            "dtypes: float64(6)\n",
            "memory usage: 7.4 KB\n"
          ],
          "name": "stdout"
        }
      ]
    },
    {
      "cell_type": "code",
      "metadata": {
        "colab": {
          "base_uri": "https://localhost:8080/"
        },
        "id": "6wtKgd2XAFEs",
        "outputId": "2f22943a-81b7-4771-9768-13131f09cc05"
      },
      "source": [
        "df.dtypes"
      ],
      "execution_count": 57,
      "outputs": [
        {
          "output_type": "execute_result",
          "data": {
            "text/plain": [
              "High         float64\n",
              "Low          float64\n",
              "Open         float64\n",
              "Close        float64\n",
              "Volume       float64\n",
              "Adj_Close    float64\n",
              "dtype: object"
            ]
          },
          "metadata": {
            "tags": []
          },
          "execution_count": 57
        }
      ]
    },
    {
      "cell_type": "code",
      "metadata": {
        "colab": {
          "base_uri": "https://localhost:8080/"
        },
        "id": "0jL9tsPGAR47",
        "outputId": "c5f43b7d-9e07-47ad-b29f-b6f795715595"
      },
      "source": [
        "df['Adj_Close'].value_counts()"
      ],
      "execution_count": 58,
      "outputs": [
        {
          "output_type": "execute_result",
          "data": {
            "text/plain": [
              "16.590769    3\n",
              "17.639503    2\n",
              "11.732393    2\n",
              "11.334848    2\n",
              "18.228842    2\n",
              "            ..\n",
              "16.725931    1\n",
              "18.130800    1\n",
              "16.357475    1\n",
              "16.732489    1\n",
              "11.722696    1\n",
              "Name: Adj_Close, Length: 122, dtype: int64"
            ]
          },
          "metadata": {
            "tags": []
          },
          "execution_count": 58
        }
      ]
    },
    {
      "cell_type": "code",
      "metadata": {
        "colab": {
          "base_uri": "https://localhost:8080/"
        },
        "id": "P_7nHmH7Af-Q",
        "outputId": "5d265a5f-143b-4755-b5e4-91227514efa9"
      },
      "source": [
        "df['Adj_Close'].mean()"
      ],
      "execution_count": 59,
      "outputs": [
        {
          "output_type": "execute_result",
          "data": {
            "text/plain": [
              "15.968232896592882"
            ]
          },
          "metadata": {
            "tags": []
          },
          "execution_count": 59
        }
      ]
    },
    {
      "cell_type": "code",
      "metadata": {
        "colab": {
          "base_uri": "https://localhost:8080/",
          "height": 395
        },
        "id": "bNQCqunQA44-",
        "outputId": "5d4d4a64-f251-4393-aa66-7cacd6416f56"
      },
      "source": [
        "df['Adj_Close'].plot(figsize=(20,6))"
      ],
      "execution_count": 62,
      "outputs": [
        {
          "output_type": "execute_result",
          "data": {
            "text/plain": [
              "<matplotlib.axes._subplots.AxesSubplot at 0x7f854ee9c2d0>"
            ]
          },
          "metadata": {
            "tags": []
          },
          "execution_count": 62
        },
        {
          "output_type": "display_data",
          "data": {
            "image/png": "[encoded data removed]",
            "text/plain": [
              "<Figure size 1440x432 with 1 Axes>"
            ]
          },
          "metadata": {
            "tags": [],
            "needs_background": "light"
          }
        }
      ]
    },
    {
      "cell_type": "code",
      "metadata": {
        "colab": {
          "base_uri": "https://localhost:8080/",
          "height": 392
        },
        "id": "KNEjBMsxBnP7",
        "outputId": "6042b192-4f32-47cc-a4c5-756ab5ccc127"
      },
      "source": [
        "df['Open'].plot(figsize=(20,6))"
      ],
      "execution_count": 63,
      "outputs": [
        {
          "output_type": "execute_result",
          "data": {
            "text/plain": [
              "<matplotlib.axes._subplots.AxesSubplot at 0x7f85578ffad0>"
            ]
          },
          "metadata": {
            "tags": []
          },
          "execution_count": 63
        },
        {
          "output_type": "display_data",
          "data": {
            "image/png": "[encoded data removed]",
            "text/plain": [
              "<Figure size 1440x432 with 1 Axes>"
            ]
          },
          "metadata": {
            "tags": [],
            "needs_background": "light"
          }
        }
      ]
    },
    {
      "cell_type": "markdown",
      "metadata": {
        "id": "yr83e0yvBzSH"
      },
      "source": [
        "Média Móvel"
      ]
    },
    {
      "cell_type": "code",
      "metadata": {
        "colab": {
          "base_uri": "https://localhost:8080/",
          "height": 395
        },
        "id": "XALcpvokBxVx",
        "outputId": "5cc8f7db-a91f-4f7b-855a-ce0183af11e5"
      },
      "source": [
        "df['Adj_Close'].plot(figsize=(20,6), label='AMBEV')\n",
        "df['Adj_Close'].rolling(10).mean().plot(label='10 Dias')\n",
        "df['Adj_Close'].rolling(50).mean().plot(label='50 Dias')\n"
      ],
      "execution_count": 67,
      "outputs": [
        {
          "output_type": "execute_result",
          "data": {
            "text/plain": [
              "<matplotlib.axes._subplots.AxesSubplot at 0x7f8566392e90>"
            ]
          },
          "metadata": {
            "tags": []
          },
          "execution_count": 67
        },
        {
          "output_type": "display_data",
          "data": {
            "image/png": "[encoded data removed]",
            "text/plain": [
              "<Figure size 1440x432 with 1 Axes>"
            ]
          },
          "metadata": {
            "tags": [],
            "needs_background": "light"
          }
        }
      ]
    },
    {
      "cell_type": "markdown",
      "metadata": {
        "id": "Ai2_8d0KDEC_"
      },
      "source": [
        "Percentual de Retorno"
      ]
    },
    {
      "cell_type": "code",
      "metadata": {
        "colab": {
          "base_uri": "https://localhost:8080/",
          "height": 235
        },
        "id": "7r_FzId3C95s",
        "outputId": "c3f6bc85-e4ec-4440-fb6c-a3bab58379a8"
      },
      "source": [
        "df.head()"
      ],
      "execution_count": 69,
      "outputs": [
        {
          "output_type": "execute_result",
          "data": {
            "text/html": [
              "<div>\n",
              "<style scoped>\n",
              "    .dataframe tbody tr th:only-of-type {\n",
              "        vertical-align: middle;\n",
              "    }\n",
              "\n",
              "    .dataframe tbody tr th {\n",
              "        vertical-align: top;\n",
              "    }\n",
              "\n",
              "    .dataframe thead th {\n",
              "        text-align: right;\n",
              "    }\n",
              "</style>\n",
              "<table border=\"1\" class=\"dataframe\">\n",
              "  <thead>\n",
              "    <tr style=\"text-align: right;\">\n",
              "      <th></th>\n",
              "      <th>High</th>\n",
              "      <th>Low</th>\n",
              "      <th>Open</th>\n",
              "      <th>Close</th>\n",
              "      <th>Volume</th>\n",
              "      <th>Adj_Close</th>\n",
              "    </tr>\n",
              "    <tr>\n",
              "      <th>Date</th>\n",
              "      <th></th>\n",
              "      <th></th>\n",
              "      <th></th>\n",
              "      <th></th>\n",
              "      <th></th>\n",
              "      <th></th>\n",
              "    </tr>\n",
              "  </thead>\n",
              "  <tbody>\n",
              "    <tr>\n",
              "      <th>2019-10-01</th>\n",
              "      <td>19.459999</td>\n",
              "      <td>19.110001</td>\n",
              "      <td>19.299999</td>\n",
              "      <td>19.309999</td>\n",
              "      <td>24459600.0</td>\n",
              "      <td>18.244175</td>\n",
              "    </tr>\n",
              "    <tr>\n",
              "      <th>2019-10-02</th>\n",
              "      <td>19.290001</td>\n",
              "      <td>18.750000</td>\n",
              "      <td>19.209999</td>\n",
              "      <td>18.860001</td>\n",
              "      <td>17900100.0</td>\n",
              "      <td>17.819017</td>\n",
              "    </tr>\n",
              "    <tr>\n",
              "      <th>2019-10-03</th>\n",
              "      <td>18.850000</td>\n",
              "      <td>18.469999</td>\n",
              "      <td>18.799999</td>\n",
              "      <td>18.580000</td>\n",
              "      <td>19307100.0</td>\n",
              "      <td>17.554470</td>\n",
              "    </tr>\n",
              "    <tr>\n",
              "      <th>2019-10-04</th>\n",
              "      <td>19.370001</td>\n",
              "      <td>18.500000</td>\n",
              "      <td>18.590000</td>\n",
              "      <td>19.209999</td>\n",
              "      <td>35765000.0</td>\n",
              "      <td>18.149696</td>\n",
              "    </tr>\n",
              "    <tr>\n",
              "      <th>2019-10-07</th>\n",
              "      <td>19.280001</td>\n",
              "      <td>18.780001</td>\n",
              "      <td>19.209999</td>\n",
              "      <td>18.870001</td>\n",
              "      <td>17635100.0</td>\n",
              "      <td>17.828466</td>\n",
              "    </tr>\n",
              "  </tbody>\n",
              "</table>\n",
              "</div>"
            ],
            "text/plain": [
              "                 High        Low       Open      Close      Volume  Adj_Close\n",
              "Date                                                                         \n",
              "2019-10-01  19.459999  19.110001  19.299999  19.309999  24459600.0  18.244175\n",
              "2019-10-02  19.290001  18.750000  19.209999  18.860001  17900100.0  17.819017\n",
              "2019-10-03  18.850000  18.469999  18.799999  18.580000  19307100.0  17.554470\n",
              "2019-10-04  19.370001  18.500000  18.590000  19.209999  35765000.0  18.149696\n",
              "2019-10-07  19.280001  18.780001  19.209999  18.870001  17635100.0  17.828466"
            ]
          },
          "metadata": {
            "tags": []
          },
          "execution_count": 69
        }
      ]
    },
    {
      "cell_type": "code",
      "metadata": {
        "id": "SRbew8ZyENYL"
      },
      "source": [
        "df['Retorno'] = df['Adj_Close'].pct_change()"
      ],
      "execution_count": 70,
      "outputs": []
    },
    {
      "cell_type": "code",
      "metadata": {
        "colab": {
          "base_uri": "https://localhost:8080/",
          "height": 235
        },
        "id": "ybzVdXgkEaHt",
        "outputId": "d92c7e83-efe1-4c32-dcfc-708bbf7affa8"
      },
      "source": [
        "df.head()"
      ],
      "execution_count": 71,
      "outputs": [
        {
          "output_type": "execute_result",
          "data": {
            "text/html": [
              "<div>\n",
              "<style scoped>\n",
              "    .dataframe tbody tr th:only-of-type {\n",
              "        vertical-align: middle;\n",
              "    }\n",
              "\n",
              "    .dataframe tbody tr th {\n",
              "        vertical-align: top;\n",
              "    }\n",
              "\n",
              "    .dataframe thead th {\n",
              "        text-align: right;\n",
              "    }\n",
              "</style>\n",
              "<table border=\"1\" class=\"dataframe\">\n",
              "  <thead>\n",
              "    <tr style=\"text-align: right;\">\n",
              "      <th></th>\n",
              "      <th>High</th>\n",
              "      <th>Low</th>\n",
              "      <th>Open</th>\n",
              "      <th>Close</th>\n",
              "      <th>Volume</th>\n",
              "      <th>Adj_Close</th>\n",
              "      <th>Retorno</th>\n",
              "    </tr>\n",
              "    <tr>\n",
              "      <th>Date</th>\n",
              "      <th></th>\n",
              "      <th></th>\n",
              "      <th></th>\n",
              "      <th></th>\n",
              "      <th></th>\n",
              "      <th></th>\n",
              "      <th></th>\n",
              "    </tr>\n",
              "  </thead>\n",
              "  <tbody>\n",
              "    <tr>\n",
              "      <th>2019-10-01</th>\n",
              "      <td>19.459999</td>\n",
              "      <td>19.110001</td>\n",
              "      <td>19.299999</td>\n",
              "      <td>19.309999</td>\n",
              "      <td>24459600.0</td>\n",
              "      <td>18.244175</td>\n",
              "      <td>NaN</td>\n",
              "    </tr>\n",
              "    <tr>\n",
              "      <th>2019-10-02</th>\n",
              "      <td>19.290001</td>\n",
              "      <td>18.750000</td>\n",
              "      <td>19.209999</td>\n",
              "      <td>18.860001</td>\n",
              "      <td>17900100.0</td>\n",
              "      <td>17.819017</td>\n",
              "      <td>-0.023304</td>\n",
              "    </tr>\n",
              "    <tr>\n",
              "      <th>2019-10-03</th>\n",
              "      <td>18.850000</td>\n",
              "      <td>18.469999</td>\n",
              "      <td>18.799999</td>\n",
              "      <td>18.580000</td>\n",
              "      <td>19307100.0</td>\n",
              "      <td>17.554470</td>\n",
              "      <td>-0.014846</td>\n",
              "    </tr>\n",
              "    <tr>\n",
              "      <th>2019-10-04</th>\n",
              "      <td>19.370001</td>\n",
              "      <td>18.500000</td>\n",
              "      <td>18.590000</td>\n",
              "      <td>19.209999</td>\n",
              "      <td>35765000.0</td>\n",
              "      <td>18.149696</td>\n",
              "      <td>0.033907</td>\n",
              "    </tr>\n",
              "    <tr>\n",
              "      <th>2019-10-07</th>\n",
              "      <td>19.280001</td>\n",
              "      <td>18.780001</td>\n",
              "      <td>19.209999</td>\n",
              "      <td>18.870001</td>\n",
              "      <td>17635100.0</td>\n",
              "      <td>17.828466</td>\n",
              "      <td>-0.017699</td>\n",
              "    </tr>\n",
              "  </tbody>\n",
              "</table>\n",
              "</div>"
            ],
            "text/plain": [
              "                 High        Low       Open  ...      Volume  Adj_Close   Retorno\n",
              "Date                                         ...                                 \n",
              "2019-10-01  19.459999  19.110001  19.299999  ...  24459600.0  18.244175       NaN\n",
              "2019-10-02  19.290001  18.750000  19.209999  ...  17900100.0  17.819017 -0.023304\n",
              "2019-10-03  18.850000  18.469999  18.799999  ...  19307100.0  17.554470 -0.014846\n",
              "2019-10-04  19.370001  18.500000  18.590000  ...  35765000.0  18.149696  0.033907\n",
              "2019-10-07  19.280001  18.780001  19.209999  ...  17635100.0  17.828466 -0.017699\n",
              "\n",
              "[5 rows x 7 columns]"
            ]
          },
          "metadata": {
            "tags": []
          },
          "execution_count": 71
        }
      ]
    },
    {
      "cell_type": "code",
      "metadata": {
        "id": "uLwWbJIHEsh4"
      },
      "source": [
        "media_percentual_retorno = df['Retorno'].mean()*100"
      ],
      "execution_count": 78,
      "outputs": []
    },
    {
      "cell_type": "code",
      "metadata": {
        "colab": {
          "base_uri": "https://localhost:8080/"
        },
        "id": "CFeaFt8UE2n2",
        "outputId": "eb644eeb-3c2f-4526-be51-f2e7ff9d6434"
      },
      "source": [
        "print(f'Percentual Retorno Médio:{media_percentual_retorno:.4f}%')"
      ],
      "execution_count": 87,
      "outputs": [
        {
          "output_type": "stream",
          "text": [
            "Percentual Retorno Médio:-0.3112%\n"
          ],
          "name": "stdout"
        }
      ]
    },
    {
      "cell_type": "markdown",
      "metadata": {
        "id": "HVMjBUDJGUTp"
      },
      "source": [
        "Desvio Padrão"
      ]
    },
    {
      "cell_type": "code",
      "metadata": {
        "id": "Q1nYT9qcF-Wm"
      },
      "source": [
        "desvio_padrao_retorno = df.Retorno.std()"
      ],
      "execution_count": 90,
      "outputs": []
    },
    {
      "cell_type": "code",
      "metadata": {
        "colab": {
          "base_uri": "https://localhost:8080/"
        },
        "id": "4089Ga71GquV",
        "outputId": "3bebbd85-0e9b-432e-d17b-25115f4413c3"
      },
      "source": [
        "print(f'Desvio Padrão Retorno:{desvio_padrao_retorno:.4f}')"
      ],
      "execution_count": 91,
      "outputs": [
        {
          "output_type": "stream",
          "text": [
            "Desvio Padrão Retorno:0.0307\n"
          ],
          "name": "stdout"
        }
      ]
    },
    {
      "cell_type": "code",
      "metadata": {
        "colab": {
          "base_uri": "https://localhost:8080/",
          "height": 294
        },
        "id": "k63kzv4RG8yP",
        "outputId": "891cfe0b-3b48-420f-c275-68ab3898cb9c"
      },
      "source": [
        "df.Retorno.plot()"
      ],
      "execution_count": 93,
      "outputs": [
        {
          "output_type": "execute_result",
          "data": {
            "text/plain": [
              "<matplotlib.axes._subplots.AxesSubplot at 0x7f854ed23190>"
            ]
          },
          "metadata": {
            "tags": []
          },
          "execution_count": 93
        },
        {
          "output_type": "display_data",
          "data": {
            "image/png": "[encoded data removed]",
            "text/plain": [
              "<Figure size 432x288 with 1 Axes>"
            ]
          },
          "metadata": {
            "tags": [],
            "needs_background": "light"
          }
        }
      ]
    },
    {
      "cell_type": "code",
      "metadata": {
        "colab": {
          "base_uri": "https://localhost:8080/"
        },
        "id": "zWcZF4UBHJvA",
        "outputId": "a48c43df-d0d5-4c60-b987-8a407e3cd041"
      },
      "source": [
        "df.isnull().sum()"
      ],
      "execution_count": 96,
      "outputs": [
        {
          "output_type": "execute_result",
          "data": {
            "text/plain": [
              "High         0\n",
              "Low          0\n",
              "Open         0\n",
              "Close        0\n",
              "Volume       0\n",
              "Adj_Close    0\n",
              "Retorno      1\n",
              "dtype: int64"
            ]
          },
          "metadata": {
            "tags": []
          },
          "execution_count": 96
        }
      ]
    },
    {
      "cell_type": "code",
      "metadata": {
        "id": "Pq7_XeN_G_5i"
      },
      "source": [
        "df.Retorno.fillna((df.Retorno.mean()),inplace = True)"
      ],
      "execution_count": 98,
      "outputs": []
    },
    {
      "cell_type": "code",
      "metadata": {
        "colab": {
          "base_uri": "https://localhost:8080/"
        },
        "id": "8sXpjQ4qIj_S",
        "outputId": "3831ff5d-9bca-4b0c-cdbf-4f86d5c829c2"
      },
      "source": [
        "df.isnull().sum()\n"
      ],
      "execution_count": 99,
      "outputs": [
        {
          "output_type": "execute_result",
          "data": {
            "text/plain": [
              "High         0\n",
              "Low          0\n",
              "Open         0\n",
              "Close        0\n",
              "Volume       0\n",
              "Adj_Close    0\n",
              "Retorno      0\n",
              "dtype: int64"
            ]
          },
          "metadata": {
            "tags": []
          },
          "execution_count": 99
        }
      ]
    },
    {
      "cell_type": "code",
      "metadata": {
        "colab": {
          "base_uri": "https://localhost:8080/",
          "height": 235
        },
        "id": "1PVLKNarIqLn",
        "outputId": "e42152f9-68ca-4c94-da7e-6236d9a7c07e"
      },
      "source": [
        "df.head()"
      ],
      "execution_count": 100,
      "outputs": [
        {
          "output_type": "execute_result",
          "data": {
            "text/html": [
              "<div>\n",
              "<style scoped>\n",
              "    .dataframe tbody tr th:only-of-type {\n",
              "        vertical-align: middle;\n",
              "    }\n",
              "\n",
              "    .dataframe tbody tr th {\n",
              "        vertical-align: top;\n",
              "    }\n",
              "\n",
              "    .dataframe thead th {\n",
              "        text-align: right;\n",
              "    }\n",
              "</style>\n",
              "<table border=\"1\" class=\"dataframe\">\n",
              "  <thead>\n",
              "    <tr style=\"text-align: right;\">\n",
              "      <th></th>\n",
              "      <th>High</th>\n",
              "      <th>Low</th>\n",
              "      <th>Open</th>\n",
              "      <th>Close</th>\n",
              "      <th>Volume</th>\n",
              "      <th>Adj_Close</th>\n",
              "      <th>Retorno</th>\n",
              "    </tr>\n",
              "    <tr>\n",
              "      <th>Date</th>\n",
              "      <th></th>\n",
              "      <th></th>\n",
              "      <th></th>\n",
              "      <th></th>\n",
              "      <th></th>\n",
              "      <th></th>\n",
              "      <th></th>\n",
              "    </tr>\n",
              "  </thead>\n",
              "  <tbody>\n",
              "    <tr>\n",
              "      <th>2019-10-01</th>\n",
              "      <td>19.459999</td>\n",
              "      <td>19.110001</td>\n",
              "      <td>19.299999</td>\n",
              "      <td>19.309999</td>\n",
              "      <td>24459600.0</td>\n",
              "      <td>18.244175</td>\n",
              "      <td>-0.003112</td>\n",
              "    </tr>\n",
              "    <tr>\n",
              "      <th>2019-10-02</th>\n",
              "      <td>19.290001</td>\n",
              "      <td>18.750000</td>\n",
              "      <td>19.209999</td>\n",
              "      <td>18.860001</td>\n",
              "      <td>17900100.0</td>\n",
              "      <td>17.819017</td>\n",
              "      <td>-0.023304</td>\n",
              "    </tr>\n",
              "    <tr>\n",
              "      <th>2019-10-03</th>\n",
              "      <td>18.850000</td>\n",
              "      <td>18.469999</td>\n",
              "      <td>18.799999</td>\n",
              "      <td>18.580000</td>\n",
              "      <td>19307100.0</td>\n",
              "      <td>17.554470</td>\n",
              "      <td>-0.014846</td>\n",
              "    </tr>\n",
              "    <tr>\n",
              "      <th>2019-10-04</th>\n",
              "      <td>19.370001</td>\n",
              "      <td>18.500000</td>\n",
              "      <td>18.590000</td>\n",
              "      <td>19.209999</td>\n",
              "      <td>35765000.0</td>\n",
              "      <td>18.149696</td>\n",
              "      <td>0.033907</td>\n",
              "    </tr>\n",
              "    <tr>\n",
              "      <th>2019-10-07</th>\n",
              "      <td>19.280001</td>\n",
              "      <td>18.780001</td>\n",
              "      <td>19.209999</td>\n",
              "      <td>18.870001</td>\n",
              "      <td>17635100.0</td>\n",
              "      <td>17.828466</td>\n",
              "      <td>-0.017699</td>\n",
              "    </tr>\n",
              "  </tbody>\n",
              "</table>\n",
              "</div>"
            ],
            "text/plain": [
              "                 High        Low       Open  ...      Volume  Adj_Close   Retorno\n",
              "Date                                         ...                                 \n",
              "2019-10-01  19.459999  19.110001  19.299999  ...  24459600.0  18.244175 -0.003112\n",
              "2019-10-02  19.290001  18.750000  19.209999  ...  17900100.0  17.819017 -0.023304\n",
              "2019-10-03  18.850000  18.469999  18.799999  ...  19307100.0  17.554470 -0.014846\n",
              "2019-10-04  19.370001  18.500000  18.590000  ...  35765000.0  18.149696  0.033907\n",
              "2019-10-07  19.280001  18.780001  19.209999  ...  17635100.0  17.828466 -0.017699\n",
              "\n",
              "[5 rows x 7 columns]"
            ]
          },
          "metadata": {
            "tags": []
          },
          "execution_count": 100
        }
      ]
    },
    {
      "cell_type": "code",
      "metadata": {
        "colab": {
          "base_uri": "https://localhost:8080/"
        },
        "id": "SQ1hff_8JARk",
        "outputId": "7db80d38-4cae-4c04-bd07-161463f891f7"
      },
      "source": [
        "df.dtypes"
      ],
      "execution_count": 101,
      "outputs": [
        {
          "output_type": "execute_result",
          "data": {
            "text/plain": [
              "High         float64\n",
              "Low          float64\n",
              "Open         float64\n",
              "Close        float64\n",
              "Volume       float64\n",
              "Adj_Close    float64\n",
              "Retorno      float64\n",
              "dtype: object"
            ]
          },
          "metadata": {
            "tags": []
          },
          "execution_count": 101
        }
      ]
    },
    {
      "cell_type": "code",
      "metadata": {
        "id": "uibVpMLTJCwU"
      },
      "source": [
        "media_adj_close = df.Adj_Close.mean()"
      ],
      "execution_count": 102,
      "outputs": []
    },
    {
      "cell_type": "code",
      "metadata": {
        "colab": {
          "base_uri": "https://localhost:8080/"
        },
        "id": "DoKdmKHxJQJJ",
        "outputId": "f916be5a-5fdb-446f-e505-972eb18a34e2"
      },
      "source": [
        "print(f'Média Adj_Close:{media_adj_close:.4f}')"
      ],
      "execution_count": 105,
      "outputs": [
        {
          "output_type": "stream",
          "text": [
            "Média Adj_Close:15.9682\n"
          ],
          "name": "stdout"
        }
      ]
    },
    {
      "cell_type": "code",
      "metadata": {
        "id": "YZtZLxWNJh6a"
      },
      "source": [
        "df.loc[df.Adj_Close <= media_adj_close, 'Buy'] = 1\n",
        "df.loc[df.Adj_Close > media_adj_close, 'Buy'] = 0"
      ],
      "execution_count": 109,
      "outputs": []
    },
    {
      "cell_type": "code",
      "metadata": {
        "colab": {
          "base_uri": "https://localhost:8080/",
          "height": 235
        },
        "id": "BgZD3ybLLFhx",
        "outputId": "0d844e7b-6fb2-4455-d2ea-6d68a362d238"
      },
      "source": [
        "df.head()"
      ],
      "execution_count": 110,
      "outputs": [
        {
          "output_type": "execute_result",
          "data": {
            "text/html": [
              "<div>\n",
              "<style scoped>\n",
              "    .dataframe tbody tr th:only-of-type {\n",
              "        vertical-align: middle;\n",
              "    }\n",
              "\n",
              "    .dataframe tbody tr th {\n",
              "        vertical-align: top;\n",
              "    }\n",
              "\n",
              "    .dataframe thead th {\n",
              "        text-align: right;\n",
              "    }\n",
              "</style>\n",
              "<table border=\"1\" class=\"dataframe\">\n",
              "  <thead>\n",
              "    <tr style=\"text-align: right;\">\n",
              "      <th></th>\n",
              "      <th>High</th>\n",
              "      <th>Low</th>\n",
              "      <th>Open</th>\n",
              "      <th>Close</th>\n",
              "      <th>Volume</th>\n",
              "      <th>Adj_Close</th>\n",
              "      <th>Retorno</th>\n",
              "      <th>Buy</th>\n",
              "    </tr>\n",
              "    <tr>\n",
              "      <th>Date</th>\n",
              "      <th></th>\n",
              "      <th></th>\n",
              "      <th></th>\n",
              "      <th></th>\n",
              "      <th></th>\n",
              "      <th></th>\n",
              "      <th></th>\n",
              "      <th></th>\n",
              "    </tr>\n",
              "  </thead>\n",
              "  <tbody>\n",
              "    <tr>\n",
              "      <th>2019-10-01</th>\n",
              "      <td>19.459999</td>\n",
              "      <td>19.110001</td>\n",
              "      <td>19.299999</td>\n",
              "      <td>19.309999</td>\n",
              "      <td>24459600.0</td>\n",
              "      <td>18.244175</td>\n",
              "      <td>-0.003112</td>\n",
              "      <td>0.0</td>\n",
              "    </tr>\n",
              "    <tr>\n",
              "      <th>2019-10-02</th>\n",
              "      <td>19.290001</td>\n",
              "      <td>18.750000</td>\n",
              "      <td>19.209999</td>\n",
              "      <td>18.860001</td>\n",
              "      <td>17900100.0</td>\n",
              "      <td>17.819017</td>\n",
              "      <td>-0.023304</td>\n",
              "      <td>0.0</td>\n",
              "    </tr>\n",
              "    <tr>\n",
              "      <th>2019-10-03</th>\n",
              "      <td>18.850000</td>\n",
              "      <td>18.469999</td>\n",
              "      <td>18.799999</td>\n",
              "      <td>18.580000</td>\n",
              "      <td>19307100.0</td>\n",
              "      <td>17.554470</td>\n",
              "      <td>-0.014846</td>\n",
              "      <td>0.0</td>\n",
              "    </tr>\n",
              "    <tr>\n",
              "      <th>2019-10-04</th>\n",
              "      <td>19.370001</td>\n",
              "      <td>18.500000</td>\n",
              "      <td>18.590000</td>\n",
              "      <td>19.209999</td>\n",
              "      <td>35765000.0</td>\n",
              "      <td>18.149696</td>\n",
              "      <td>0.033907</td>\n",
              "      <td>0.0</td>\n",
              "    </tr>\n",
              "    <tr>\n",
              "      <th>2019-10-07</th>\n",
              "      <td>19.280001</td>\n",
              "      <td>18.780001</td>\n",
              "      <td>19.209999</td>\n",
              "      <td>18.870001</td>\n",
              "      <td>17635100.0</td>\n",
              "      <td>17.828466</td>\n",
              "      <td>-0.017699</td>\n",
              "      <td>0.0</td>\n",
              "    </tr>\n",
              "  </tbody>\n",
              "</table>\n",
              "</div>"
            ],
            "text/plain": [
              "                 High        Low       Open  ...  Adj_Close   Retorno  Buy\n",
              "Date                                         ...                          \n",
              "2019-10-01  19.459999  19.110001  19.299999  ...  18.244175 -0.003112  0.0\n",
              "2019-10-02  19.290001  18.750000  19.209999  ...  17.819017 -0.023304  0.0\n",
              "2019-10-03  18.850000  18.469999  18.799999  ...  17.554470 -0.014846  0.0\n",
              "2019-10-04  19.370001  18.500000  18.590000  ...  18.149696  0.033907  0.0\n",
              "2019-10-07  19.280001  18.780001  19.209999  ...  17.828466 -0.017699  0.0\n",
              "\n",
              "[5 rows x 8 columns]"
            ]
          },
          "metadata": {
            "tags": []
          },
          "execution_count": 110
        }
      ]
    },
    {
      "cell_type": "code",
      "metadata": {
        "colab": {
          "base_uri": "https://localhost:8080/",
          "height": 235
        },
        "id": "N0du9_5zLK3l",
        "outputId": "4199aa94-90f3-45e7-d293-8eee8ac91cdc"
      },
      "source": [
        "df.tail()"
      ],
      "execution_count": 111,
      "outputs": [
        {
          "output_type": "execute_result",
          "data": {
            "text/html": [
              "<div>\n",
              "<style scoped>\n",
              "    .dataframe tbody tr th:only-of-type {\n",
              "        vertical-align: middle;\n",
              "    }\n",
              "\n",
              "    .dataframe tbody tr th {\n",
              "        vertical-align: top;\n",
              "    }\n",
              "\n",
              "    .dataframe thead th {\n",
              "        text-align: right;\n",
              "    }\n",
              "</style>\n",
              "<table border=\"1\" class=\"dataframe\">\n",
              "  <thead>\n",
              "    <tr style=\"text-align: right;\">\n",
              "      <th></th>\n",
              "      <th>High</th>\n",
              "      <th>Low</th>\n",
              "      <th>Open</th>\n",
              "      <th>Close</th>\n",
              "      <th>Volume</th>\n",
              "      <th>Adj_Close</th>\n",
              "      <th>Retorno</th>\n",
              "      <th>Buy</th>\n",
              "    </tr>\n",
              "    <tr>\n",
              "      <th>Date</th>\n",
              "      <th></th>\n",
              "      <th></th>\n",
              "      <th></th>\n",
              "      <th></th>\n",
              "      <th></th>\n",
              "      <th></th>\n",
              "      <th></th>\n",
              "      <th></th>\n",
              "    </tr>\n",
              "  </thead>\n",
              "  <tbody>\n",
              "    <tr>\n",
              "      <th>2020-04-14</th>\n",
              "      <td>12.59</td>\n",
              "      <td>12.09</td>\n",
              "      <td>12.29</td>\n",
              "      <td>12.09</td>\n",
              "      <td>21281900.0</td>\n",
              "      <td>11.722696</td>\n",
              "      <td>-0.000827</td>\n",
              "      <td>1.0</td>\n",
              "    </tr>\n",
              "    <tr>\n",
              "      <th>2020-04-15</th>\n",
              "      <td>12.06</td>\n",
              "      <td>11.72</td>\n",
              "      <td>11.92</td>\n",
              "      <td>11.91</td>\n",
              "      <td>35812700.0</td>\n",
              "      <td>11.548165</td>\n",
              "      <td>-0.014888</td>\n",
              "      <td>1.0</td>\n",
              "    </tr>\n",
              "    <tr>\n",
              "      <th>2020-04-16</th>\n",
              "      <td>12.02</td>\n",
              "      <td>11.40</td>\n",
              "      <td>11.96</td>\n",
              "      <td>11.45</td>\n",
              "      <td>26018500.0</td>\n",
              "      <td>11.102140</td>\n",
              "      <td>-0.038623</td>\n",
              "      <td>1.0</td>\n",
              "    </tr>\n",
              "    <tr>\n",
              "      <th>2020-04-17</th>\n",
              "      <td>11.80</td>\n",
              "      <td>11.49</td>\n",
              "      <td>11.70</td>\n",
              "      <td>11.60</td>\n",
              "      <td>16763000.0</td>\n",
              "      <td>11.247582</td>\n",
              "      <td>0.013100</td>\n",
              "      <td>1.0</td>\n",
              "    </tr>\n",
              "    <tr>\n",
              "      <th>2020-04-20</th>\n",
              "      <td>11.85</td>\n",
              "      <td>11.29</td>\n",
              "      <td>11.40</td>\n",
              "      <td>11.61</td>\n",
              "      <td>22065800.0</td>\n",
              "      <td>11.257279</td>\n",
              "      <td>0.000862</td>\n",
              "      <td>1.0</td>\n",
              "    </tr>\n",
              "  </tbody>\n",
              "</table>\n",
              "</div>"
            ],
            "text/plain": [
              "             High    Low   Open  Close      Volume  Adj_Close   Retorno  Buy\n",
              "Date                                                                        \n",
              "2020-04-14  12.59  12.09  12.29  12.09  21281900.0  11.722696 -0.000827  1.0\n",
              "2020-04-15  12.06  11.72  11.92  11.91  35812700.0  11.548165 -0.014888  1.0\n",
              "2020-04-16  12.02  11.40  11.96  11.45  26018500.0  11.102140 -0.038623  1.0\n",
              "2020-04-17  11.80  11.49  11.70  11.60  16763000.0  11.247582  0.013100  1.0\n",
              "2020-04-20  11.85  11.29  11.40  11.61  22065800.0  11.257279  0.000862  1.0"
            ]
          },
          "metadata": {
            "tags": []
          },
          "execution_count": 111
        }
      ]
    },
    {
      "cell_type": "code",
      "metadata": {
        "colab": {
          "base_uri": "https://localhost:8080/"
        },
        "id": "9Hr32DynLOBD",
        "outputId": "63cbe9a7-c50d-44f5-8eb3-82f3f0c71926"
      },
      "source": [
        "df.Buy.value_counts()"
      ],
      "execution_count": 113,
      "outputs": [
        {
          "output_type": "execute_result",
          "data": {
            "text/plain": [
              "0.0    92\n",
              "1.0    43\n",
              "Name: Buy, dtype: int64"
            ]
          },
          "metadata": {
            "tags": []
          },
          "execution_count": 113
        }
      ]
    },
    {
      "cell_type": "code",
      "metadata": {
        "colab": {
          "base_uri": "https://localhost:8080/"
        },
        "id": "vMrgz6EDLwxx",
        "outputId": "59ad5f95-555e-401b-e64e-f4c64d38c2b6"
      },
      "source": [
        "df.columns"
      ],
      "execution_count": 114,
      "outputs": [
        {
          "output_type": "execute_result",
          "data": {
            "text/plain": [
              "Index(['High', 'Low', 'Open', 'Close', 'Volume', 'Adj_Close', 'Retorno',\n",
              "       'Buy'],\n",
              "      dtype='object')"
            ]
          },
          "metadata": {
            "tags": []
          },
          "execution_count": 114
        }
      ]
    },
    {
      "cell_type": "code",
      "metadata": {
        "colab": {
          "base_uri": "https://localhost:8080/",
          "height": 242
        },
        "id": "C2B5hhOxL4DS",
        "outputId": "69f29e6f-ab62-4753-f766-51c183dca6df"
      },
      "source": [
        "plt.figure(figsize=(10,3))\n",
        "sns.countplot(y='Buy', data=df)"
      ],
      "execution_count": 116,
      "outputs": [
        {
          "output_type": "execute_result",
          "data": {
            "text/plain": [
              "<matplotlib.axes._subplots.AxesSubplot at 0x7f854eacc1d0>"
            ]
          },
          "metadata": {
            "tags": []
          },
          "execution_count": 116
        },
        {
          "output_type": "display_data",
          "data": {
            "image/png": "[encoded data removed]",
            "text/plain": [
              "<Figure size 720x216 with 1 Axes>"
            ]
          },
          "metadata": {
            "tags": [],
            "needs_background": "light"
          }
        }
      ]
    },
    {
      "cell_type": "code",
      "metadata": {
        "colab": {
          "base_uri": "https://localhost:8080/",
          "height": 235
        },
        "id": "Q-I3QwXtMjPs",
        "outputId": "eceafa29-7abc-4bca-ee1c-c068476040cc"
      },
      "source": [
        "df.head()"
      ],
      "execution_count": 117,
      "outputs": [
        {
          "output_type": "execute_result",
          "data": {
            "text/html": [
              "<div>\n",
              "<style scoped>\n",
              "    .dataframe tbody tr th:only-of-type {\n",
              "        vertical-align: middle;\n",
              "    }\n",
              "\n",
              "    .dataframe tbody tr th {\n",
              "        vertical-align: top;\n",
              "    }\n",
              "\n",
              "    .dataframe thead th {\n",
              "        text-align: right;\n",
              "    }\n",
              "</style>\n",
              "<table border=\"1\" class=\"dataframe\">\n",
              "  <thead>\n",
              "    <tr style=\"text-align: right;\">\n",
              "      <th></th>\n",
              "      <th>High</th>\n",
              "      <th>Low</th>\n",
              "      <th>Open</th>\n",
              "      <th>Close</th>\n",
              "      <th>Volume</th>\n",
              "      <th>Adj_Close</th>\n",
              "      <th>Retorno</th>\n",
              "      <th>Buy</th>\n",
              "    </tr>\n",
              "    <tr>\n",
              "      <th>Date</th>\n",
              "      <th></th>\n",
              "      <th></th>\n",
              "      <th></th>\n",
              "      <th></th>\n",
              "      <th></th>\n",
              "      <th></th>\n",
              "      <th></th>\n",
              "      <th></th>\n",
              "    </tr>\n",
              "  </thead>\n",
              "  <tbody>\n",
              "    <tr>\n",
              "      <th>2019-10-01</th>\n",
              "      <td>19.459999</td>\n",
              "      <td>19.110001</td>\n",
              "      <td>19.299999</td>\n",
              "      <td>19.309999</td>\n",
              "      <td>24459600.0</td>\n",
              "      <td>18.244175</td>\n",
              "      <td>-0.003112</td>\n",
              "      <td>0.0</td>\n",
              "    </tr>\n",
              "    <tr>\n",
              "      <th>2019-10-02</th>\n",
              "      <td>19.290001</td>\n",
              "      <td>18.750000</td>\n",
              "      <td>19.209999</td>\n",
              "      <td>18.860001</td>\n",
              "      <td>17900100.0</td>\n",
              "      <td>17.819017</td>\n",
              "      <td>-0.023304</td>\n",
              "      <td>0.0</td>\n",
              "    </tr>\n",
              "    <tr>\n",
              "      <th>2019-10-03</th>\n",
              "      <td>18.850000</td>\n",
              "      <td>18.469999</td>\n",
              "      <td>18.799999</td>\n",
              "      <td>18.580000</td>\n",
              "      <td>19307100.0</td>\n",
              "      <td>17.554470</td>\n",
              "      <td>-0.014846</td>\n",
              "      <td>0.0</td>\n",
              "    </tr>\n",
              "    <tr>\n",
              "      <th>2019-10-04</th>\n",
              "      <td>19.370001</td>\n",
              "      <td>18.500000</td>\n",
              "      <td>18.590000</td>\n",
              "      <td>19.209999</td>\n",
              "      <td>35765000.0</td>\n",
              "      <td>18.149696</td>\n",
              "      <td>0.033907</td>\n",
              "      <td>0.0</td>\n",
              "    </tr>\n",
              "    <tr>\n",
              "      <th>2019-10-07</th>\n",
              "      <td>19.280001</td>\n",
              "      <td>18.780001</td>\n",
              "      <td>19.209999</td>\n",
              "      <td>18.870001</td>\n",
              "      <td>17635100.0</td>\n",
              "      <td>17.828466</td>\n",
              "      <td>-0.017699</td>\n",
              "      <td>0.0</td>\n",
              "    </tr>\n",
              "  </tbody>\n",
              "</table>\n",
              "</div>"
            ],
            "text/plain": [
              "                 High        Low       Open  ...  Adj_Close   Retorno  Buy\n",
              "Date                                         ...                          \n",
              "2019-10-01  19.459999  19.110001  19.299999  ...  18.244175 -0.003112  0.0\n",
              "2019-10-02  19.290001  18.750000  19.209999  ...  17.819017 -0.023304  0.0\n",
              "2019-10-03  18.850000  18.469999  18.799999  ...  17.554470 -0.014846  0.0\n",
              "2019-10-04  19.370001  18.500000  18.590000  ...  18.149696  0.033907  0.0\n",
              "2019-10-07  19.280001  18.780001  19.209999  ...  17.828466 -0.017699  0.0\n",
              "\n",
              "[5 rows x 8 columns]"
            ]
          },
          "metadata": {
            "tags": []
          },
          "execution_count": 117
        }
      ]
    },
    {
      "cell_type": "code",
      "metadata": {
        "id": "m3KPoXvlNEST"
      },
      "source": [
        "x_train = pd.DataFrame()\n",
        "y_train = pd.DataFrame()"
      ],
      "execution_count": 147,
      "outputs": []
    },
    {
      "cell_type": "code",
      "metadata": {
        "colab": {
          "base_uri": "https://localhost:8080/"
        },
        "id": "r7VMXMw_NO-K",
        "outputId": "82e3d5bb-335f-4605-c541-ea391811a87b"
      },
      "source": [
        "x_train.dtypes"
      ],
      "execution_count": 148,
      "outputs": [
        {
          "output_type": "execute_result",
          "data": {
            "text/plain": [
              "Series([], dtype: object)"
            ]
          },
          "metadata": {
            "tags": []
          },
          "execution_count": 148
        }
      ]
    },
    {
      "cell_type": "code",
      "metadata": {
        "id": "zwvZ0NwfNbwo"
      },
      "source": [
        "x_train['High']= df['High']\n",
        "x_train['Low'] = df['Low']\n",
        "x_train['Close']= df['Close']\n",
        "x_train['Open'] = df['Open']\n",
        "x_train['Adj_Close'] = df['Adj_Close']\n",
        "x_train['Retorno'] = df['Retorno']"
      ],
      "execution_count": 149,
      "outputs": []
    },
    {
      "cell_type": "code",
      "metadata": {
        "colab": {
          "base_uri": "https://localhost:8080/",
          "height": 235
        },
        "id": "xy71PBpsOV-f",
        "outputId": "37735874-b5a7-405d-9ee7-0beaaf08cb69"
      },
      "source": [
        "x_train.head()"
      ],
      "execution_count": 150,
      "outputs": [
        {
          "output_type": "execute_result",
          "data": {
            "text/html": [
              "<div>\n",
              "<style scoped>\n",
              "    .dataframe tbody tr th:only-of-type {\n",
              "        vertical-align: middle;\n",
              "    }\n",
              "\n",
              "    .dataframe tbody tr th {\n",
              "        vertical-align: top;\n",
              "    }\n",
              "\n",
              "    .dataframe thead th {\n",
              "        text-align: right;\n",
              "    }\n",
              "</style>\n",
              "<table border=\"1\" class=\"dataframe\">\n",
              "  <thead>\n",
              "    <tr style=\"text-align: right;\">\n",
              "      <th></th>\n",
              "      <th>High</th>\n",
              "      <th>Low</th>\n",
              "      <th>Close</th>\n",
              "      <th>Open</th>\n",
              "      <th>Adj_Close</th>\n",
              "      <th>Retorno</th>\n",
              "    </tr>\n",
              "    <tr>\n",
              "      <th>Date</th>\n",
              "      <th></th>\n",
              "      <th></th>\n",
              "      <th></th>\n",
              "      <th></th>\n",
              "      <th></th>\n",
              "      <th></th>\n",
              "    </tr>\n",
              "  </thead>\n",
              "  <tbody>\n",
              "    <tr>\n",
              "      <th>2019-10-01</th>\n",
              "      <td>19.459999</td>\n",
              "      <td>19.110001</td>\n",
              "      <td>19.309999</td>\n",
              "      <td>19.299999</td>\n",
              "      <td>18.244175</td>\n",
              "      <td>-0.003112</td>\n",
              "    </tr>\n",
              "    <tr>\n",
              "      <th>2019-10-02</th>\n",
              "      <td>19.290001</td>\n",
              "      <td>18.750000</td>\n",
              "      <td>18.860001</td>\n",
              "      <td>19.209999</td>\n",
              "      <td>17.819017</td>\n",
              "      <td>-0.023304</td>\n",
              "    </tr>\n",
              "    <tr>\n",
              "      <th>2019-10-03</th>\n",
              "      <td>18.850000</td>\n",
              "      <td>18.469999</td>\n",
              "      <td>18.580000</td>\n",
              "      <td>18.799999</td>\n",
              "      <td>17.554470</td>\n",
              "      <td>-0.014846</td>\n",
              "    </tr>\n",
              "    <tr>\n",
              "      <th>2019-10-04</th>\n",
              "      <td>19.370001</td>\n",
              "      <td>18.500000</td>\n",
              "      <td>19.209999</td>\n",
              "      <td>18.590000</td>\n",
              "      <td>18.149696</td>\n",
              "      <td>0.033907</td>\n",
              "    </tr>\n",
              "    <tr>\n",
              "      <th>2019-10-07</th>\n",
              "      <td>19.280001</td>\n",
              "      <td>18.780001</td>\n",
              "      <td>18.870001</td>\n",
              "      <td>19.209999</td>\n",
              "      <td>17.828466</td>\n",
              "      <td>-0.017699</td>\n",
              "    </tr>\n",
              "  </tbody>\n",
              "</table>\n",
              "</div>"
            ],
            "text/plain": [
              "                 High        Low      Close       Open  Adj_Close   Retorno\n",
              "Date                                                                       \n",
              "2019-10-01  19.459999  19.110001  19.309999  19.299999  18.244175 -0.003112\n",
              "2019-10-02  19.290001  18.750000  18.860001  19.209999  17.819017 -0.023304\n",
              "2019-10-03  18.850000  18.469999  18.580000  18.799999  17.554470 -0.014846\n",
              "2019-10-04  19.370001  18.500000  19.209999  18.590000  18.149696  0.033907\n",
              "2019-10-07  19.280001  18.780001  18.870001  19.209999  17.828466 -0.017699"
            ]
          },
          "metadata": {
            "tags": []
          },
          "execution_count": 150
        }
      ]
    },
    {
      "cell_type": "code",
      "metadata": {
        "id": "UaHi8BMpPHni"
      },
      "source": [
        "x_train.reset_index(drop=True, inplace = True)"
      ],
      "execution_count": 151,
      "outputs": []
    },
    {
      "cell_type": "code",
      "metadata": {
        "colab": {
          "base_uri": "https://localhost:8080/",
          "height": 204
        },
        "id": "tKcnrkG_PUMF",
        "outputId": "fed42236-f609-480c-f356-8d1fdc1f57e2"
      },
      "source": [
        "x_train.head()"
      ],
      "execution_count": 152,
      "outputs": [
        {
          "output_type": "execute_result",
          "data": {
            "text/html": [
              "<div>\n",
              "<style scoped>\n",
              "    .dataframe tbody tr th:only-of-type {\n",
              "        vertical-align: middle;\n",
              "    }\n",
              "\n",
              "    .dataframe tbody tr th {\n",
              "        vertical-align: top;\n",
              "    }\n",
              "\n",
              "    .dataframe thead th {\n",
              "        text-align: right;\n",
              "    }\n",
              "</style>\n",
              "<table border=\"1\" class=\"dataframe\">\n",
              "  <thead>\n",
              "    <tr style=\"text-align: right;\">\n",
              "      <th></th>\n",
              "      <th>High</th>\n",
              "      <th>Low</th>\n",
              "      <th>Close</th>\n",
              "      <th>Open</th>\n",
              "      <th>Adj_Close</th>\n",
              "      <th>Retorno</th>\n",
              "    </tr>\n",
              "  </thead>\n",
              "  <tbody>\n",
              "    <tr>\n",
              "      <th>0</th>\n",
              "      <td>19.459999</td>\n",
              "      <td>19.110001</td>\n",
              "      <td>19.309999</td>\n",
              "      <td>19.299999</td>\n",
              "      <td>18.244175</td>\n",
              "      <td>-0.003112</td>\n",
              "    </tr>\n",
              "    <tr>\n",
              "      <th>1</th>\n",
              "      <td>19.290001</td>\n",
              "      <td>18.750000</td>\n",
              "      <td>18.860001</td>\n",
              "      <td>19.209999</td>\n",
              "      <td>17.819017</td>\n",
              "      <td>-0.023304</td>\n",
              "    </tr>\n",
              "    <tr>\n",
              "      <th>2</th>\n",
              "      <td>18.850000</td>\n",
              "      <td>18.469999</td>\n",
              "      <td>18.580000</td>\n",
              "      <td>18.799999</td>\n",
              "      <td>17.554470</td>\n",
              "      <td>-0.014846</td>\n",
              "    </tr>\n",
              "    <tr>\n",
              "      <th>3</th>\n",
              "      <td>19.370001</td>\n",
              "      <td>18.500000</td>\n",
              "      <td>19.209999</td>\n",
              "      <td>18.590000</td>\n",
              "      <td>18.149696</td>\n",
              "      <td>0.033907</td>\n",
              "    </tr>\n",
              "    <tr>\n",
              "      <th>4</th>\n",
              "      <td>19.280001</td>\n",
              "      <td>18.780001</td>\n",
              "      <td>18.870001</td>\n",
              "      <td>19.209999</td>\n",
              "      <td>17.828466</td>\n",
              "      <td>-0.017699</td>\n",
              "    </tr>\n",
              "  </tbody>\n",
              "</table>\n",
              "</div>"
            ],
            "text/plain": [
              "        High        Low      Close       Open  Adj_Close   Retorno\n",
              "0  19.459999  19.110001  19.309999  19.299999  18.244175 -0.003112\n",
              "1  19.290001  18.750000  18.860001  19.209999  17.819017 -0.023304\n",
              "2  18.850000  18.469999  18.580000  18.799999  17.554470 -0.014846\n",
              "3  19.370001  18.500000  19.209999  18.590000  18.149696  0.033907\n",
              "4  19.280001  18.780001  18.870001  19.209999  17.828466 -0.017699"
            ]
          },
          "metadata": {
            "tags": []
          },
          "execution_count": 152
        }
      ]
    },
    {
      "cell_type": "code",
      "metadata": {
        "id": "eU4sqh9EPZeq"
      },
      "source": [
        "y_train['Buy'] = df['Buy']"
      ],
      "execution_count": 153,
      "outputs": []
    },
    {
      "cell_type": "code",
      "metadata": {
        "colab": {
          "base_uri": "https://localhost:8080/",
          "height": 235
        },
        "id": "W7gkClu2P-KQ",
        "outputId": "ef2f7627-ba6a-4cd0-9da5-a08eae027055"
      },
      "source": [
        "y_train.head()"
      ],
      "execution_count": 154,
      "outputs": [
        {
          "output_type": "execute_result",
          "data": {
            "text/html": [
              "<div>\n",
              "<style scoped>\n",
              "    .dataframe tbody tr th:only-of-type {\n",
              "        vertical-align: middle;\n",
              "    }\n",
              "\n",
              "    .dataframe tbody tr th {\n",
              "        vertical-align: top;\n",
              "    }\n",
              "\n",
              "    .dataframe thead th {\n",
              "        text-align: right;\n",
              "    }\n",
              "</style>\n",
              "<table border=\"1\" class=\"dataframe\">\n",
              "  <thead>\n",
              "    <tr style=\"text-align: right;\">\n",
              "      <th></th>\n",
              "      <th>Buy</th>\n",
              "    </tr>\n",
              "    <tr>\n",
              "      <th>Date</th>\n",
              "      <th></th>\n",
              "    </tr>\n",
              "  </thead>\n",
              "  <tbody>\n",
              "    <tr>\n",
              "      <th>2019-10-01</th>\n",
              "      <td>0.0</td>\n",
              "    </tr>\n",
              "    <tr>\n",
              "      <th>2019-10-02</th>\n",
              "      <td>0.0</td>\n",
              "    </tr>\n",
              "    <tr>\n",
              "      <th>2019-10-03</th>\n",
              "      <td>0.0</td>\n",
              "    </tr>\n",
              "    <tr>\n",
              "      <th>2019-10-04</th>\n",
              "      <td>0.0</td>\n",
              "    </tr>\n",
              "    <tr>\n",
              "      <th>2019-10-07</th>\n",
              "      <td>0.0</td>\n",
              "    </tr>\n",
              "  </tbody>\n",
              "</table>\n",
              "</div>"
            ],
            "text/plain": [
              "            Buy\n",
              "Date           \n",
              "2019-10-01  0.0\n",
              "2019-10-02  0.0\n",
              "2019-10-03  0.0\n",
              "2019-10-04  0.0\n",
              "2019-10-07  0.0"
            ]
          },
          "metadata": {
            "tags": []
          },
          "execution_count": 154
        }
      ]
    },
    {
      "cell_type": "code",
      "metadata": {
        "id": "LmuK53ItPvJ8"
      },
      "source": [
        "y_train.reset_index(drop = True, inplace = True)"
      ],
      "execution_count": 155,
      "outputs": []
    },
    {
      "cell_type": "code",
      "metadata": {
        "colab": {
          "base_uri": "https://localhost:8080/",
          "height": 204
        },
        "id": "Y8UND_JXQj4l",
        "outputId": "1e5eaec2-0c7d-4a68-b960-c37a853e2e6f"
      },
      "source": [
        "y_train.head()"
      ],
      "execution_count": 156,
      "outputs": [
        {
          "output_type": "execute_result",
          "data": {
            "text/html": [
              "<div>\n",
              "<style scoped>\n",
              "    .dataframe tbody tr th:only-of-type {\n",
              "        vertical-align: middle;\n",
              "    }\n",
              "\n",
              "    .dataframe tbody tr th {\n",
              "        vertical-align: top;\n",
              "    }\n",
              "\n",
              "    .dataframe thead th {\n",
              "        text-align: right;\n",
              "    }\n",
              "</style>\n",
              "<table border=\"1\" class=\"dataframe\">\n",
              "  <thead>\n",
              "    <tr style=\"text-align: right;\">\n",
              "      <th></th>\n",
              "      <th>Buy</th>\n",
              "    </tr>\n",
              "  </thead>\n",
              "  <tbody>\n",
              "    <tr>\n",
              "      <th>0</th>\n",
              "      <td>0.0</td>\n",
              "    </tr>\n",
              "    <tr>\n",
              "      <th>1</th>\n",
              "      <td>0.0</td>\n",
              "    </tr>\n",
              "    <tr>\n",
              "      <th>2</th>\n",
              "      <td>0.0</td>\n",
              "    </tr>\n",
              "    <tr>\n",
              "      <th>3</th>\n",
              "      <td>0.0</td>\n",
              "    </tr>\n",
              "    <tr>\n",
              "      <th>4</th>\n",
              "      <td>0.0</td>\n",
              "    </tr>\n",
              "  </tbody>\n",
              "</table>\n",
              "</div>"
            ],
            "text/plain": [
              "   Buy\n",
              "0  0.0\n",
              "1  0.0\n",
              "2  0.0\n",
              "3  0.0\n",
              "4  0.0"
            ]
          },
          "metadata": {
            "tags": []
          },
          "execution_count": 156
        }
      ]
    },
    {
      "cell_type": "code",
      "metadata": {
        "colab": {
          "base_uri": "https://localhost:8080/",
          "height": 204
        },
        "id": "ULZ_Zt_FRR2s",
        "outputId": "e10afe17-61e4-48ea-a6c4-ebdcec24f417"
      },
      "source": [
        "y_train.tail()"
      ],
      "execution_count": 157,
      "outputs": [
        {
          "output_type": "execute_result",
          "data": {
            "text/html": [
              "<div>\n",
              "<style scoped>\n",
              "    .dataframe tbody tr th:only-of-type {\n",
              "        vertical-align: middle;\n",
              "    }\n",
              "\n",
              "    .dataframe tbody tr th {\n",
              "        vertical-align: top;\n",
              "    }\n",
              "\n",
              "    .dataframe thead th {\n",
              "        text-align: right;\n",
              "    }\n",
              "</style>\n",
              "<table border=\"1\" class=\"dataframe\">\n",
              "  <thead>\n",
              "    <tr style=\"text-align: right;\">\n",
              "      <th></th>\n",
              "      <th>Buy</th>\n",
              "    </tr>\n",
              "  </thead>\n",
              "  <tbody>\n",
              "    <tr>\n",
              "      <th>130</th>\n",
              "      <td>1.0</td>\n",
              "    </tr>\n",
              "    <tr>\n",
              "      <th>131</th>\n",
              "      <td>1.0</td>\n",
              "    </tr>\n",
              "    <tr>\n",
              "      <th>132</th>\n",
              "      <td>1.0</td>\n",
              "    </tr>\n",
              "    <tr>\n",
              "      <th>133</th>\n",
              "      <td>1.0</td>\n",
              "    </tr>\n",
              "    <tr>\n",
              "      <th>134</th>\n",
              "      <td>1.0</td>\n",
              "    </tr>\n",
              "  </tbody>\n",
              "</table>\n",
              "</div>"
            ],
            "text/plain": [
              "     Buy\n",
              "130  1.0\n",
              "131  1.0\n",
              "132  1.0\n",
              "133  1.0\n",
              "134  1.0"
            ]
          },
          "metadata": {
            "tags": []
          },
          "execution_count": 157
        }
      ]
    },
    {
      "cell_type": "code",
      "metadata": {
        "colab": {
          "base_uri": "https://localhost:8080/"
        },
        "id": "vpuYzaAFRcFU",
        "outputId": "65b376b3-0001-4252-bf8d-4b2c37bad371"
      },
      "source": [
        "y_train.value_counts()"
      ],
      "execution_count": 159,
      "outputs": [
        {
          "output_type": "execute_result",
          "data": {
            "text/plain": [
              "Buy\n",
              "0.0    92\n",
              "1.0    43\n",
              "dtype: int64"
            ]
          },
          "metadata": {
            "tags": []
          },
          "execution_count": 159
        }
      ]
    },
    {
      "cell_type": "code",
      "metadata": {
        "colab": {
          "base_uri": "https://localhost:8080/"
        },
        "id": "d7qtCPVRRmzQ",
        "outputId": "5d69f3ea-11cb-473a-8179-3b4fc15276d0"
      },
      "source": [
        "x_train.shape"
      ],
      "execution_count": 160,
      "outputs": [
        {
          "output_type": "execute_result",
          "data": {
            "text/plain": [
              "(135, 6)"
            ]
          },
          "metadata": {
            "tags": []
          },
          "execution_count": 160
        }
      ]
    },
    {
      "cell_type": "code",
      "metadata": {
        "colab": {
          "base_uri": "https://localhost:8080/"
        },
        "id": "iziEWCkORugY",
        "outputId": "6c7848d1-9483-4d57-d732-08c3e942e80f"
      },
      "source": [
        "y_train.shape"
      ],
      "execution_count": 161,
      "outputs": [
        {
          "output_type": "execute_result",
          "data": {
            "text/plain": [
              "(135, 1)"
            ]
          },
          "metadata": {
            "tags": []
          },
          "execution_count": 161
        }
      ]
    },
    {
      "cell_type": "code",
      "metadata": {
        "id": "iz4wHgzfRzPt"
      },
      "source": [
        "def fit_ml(algoritmo, x_train, y_train, cv):\n",
        "  model = algoritmo.fit(x_train, y_train)\n",
        "  acc = round(model.score(x_train,y_train)*100, 2)\n",
        "\n",
        "  train_pred = model_selection.cross_val_predict(algoritmo,x_train,y_train, cv=cv,n_jobs= -1)\n",
        "\n",
        "  acc_cv = round(metrics.accuracy_score(y_train,train_pred)*100,2)\n",
        "  return train_pred, acc, acc_cv"
      ],
      "execution_count": 173,
      "outputs": []
    },
    {
      "cell_type": "code",
      "metadata": {
        "id": "6totjsqvTdtL"
      },
      "source": [
        "start_time = time.time()"
      ],
      "execution_count": 175,
      "outputs": []
    },
    {
      "cell_type": "code",
      "metadata": {
        "colab": {
          "base_uri": "https://localhost:8080/"
        },
        "id": "f46fRQIMTvYm",
        "outputId": "6f150b35-612e-4652-edd6-11bae1c3cb2c"
      },
      "source": [
        "train_pred_log, acc_log, acc_cv_log= fit_ml(LogisticRegression(),x_train,y_train, 10)\n",
        "\n",
        "log_time=(time.time()-start_time)\n",
        "\n",
        "print('Acurácia:%s'%acc_log)\n",
        "print('Acurácia Cruzada:%s'%acc_cv_log)\n",
        "print('Tempo:%s'%datetime.timedelta(seconds=log_time))"
      ],
      "execution_count": 186,
      "outputs": [
        {
          "output_type": "stream",
          "text": [
            "Acurácia:100.0\n",
            "Acurácia Cruzada:96.3\n",
            "Tempo:0:05:54.603569\n"
          ],
          "name": "stdout"
        },
        {
          "output_type": "stream",
          "text": [
            "/usr/local/lib/python3.7/dist-packages/sklearn/utils/validation.py:760: DataConversionWarning: A column-vector y was passed when a 1d array was expected. Please change the shape of y to (n_samples, ), for example using ravel().\n",
            "  y = column_or_1d(y, warn=True)\n"
          ],
          "name": "stderr"
        }
      ]
    }
  ]
}